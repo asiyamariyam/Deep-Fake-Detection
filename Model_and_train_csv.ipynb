{
  "nbformat": 4,
  "nbformat_minor": 0,
  "metadata": {
    "colab": {
      "provenance": []
    },
    "kernelspec": {
      "name": "python3",
      "display_name": "Python 3"
    },
    "accelerator": "GPU"
  },
  "cells": [
    {
      "cell_type": "code",
      "metadata": {
        "id": "_M_hIl_-C6P8",
        "colab": {
          "base_uri": "https://localhost:8080/"
        },
        "outputId": "a925dcf0-84e4-468a-ecbc-e5e8d62ae066"
      },
      "source": [
        "#before running this please change the RUNTIME to GPU (Runtime -> Change runtime type -> set harware accelarotor as GPU)\n",
        "#Mount our google drive\n",
        "from google.colab import drive\n",
        "drive.mount('/content/drive')"
      ],
      "execution_count": 1,
      "outputs": [
        {
          "output_type": "stream",
          "name": "stdout",
          "text": [
            "Mounted at /content/drive\n"
          ]
        }
      ]
    },
    {
      "cell_type": "markdown",
      "metadata": {
        "id": "mneMgm9j7ack"
      },
      "source": [
        "Note : Use the drive link for the processed dataset"
      ]
    },
    {
      "cell_type": "code",
      "metadata": {
        "id": "tnFgwZBYCyYR"
      },
      "source": [
        "#Note : only needed when you have to download the processed data to the environment\n",
        "#download and unzip the data from google drive Colab environment\n",
        "from google_drive_downloader import GoogleDriveDownloader as gdd\n",
        "#use only file id of the link\n",
        "#Note: Below link is just an example, Not an actual link. Actual Links are in ReadMe file\n",
        "#https://drive.google.com/file/d/1ubvKLzBDe5i1acxgGUK6ObeNBYCKUS07/view?usp=sharing\n",
        "url = '1ubvKLzBDe5i1acxgGUK6ObeNBYCKUS07'\n",
        "gdd.download_file_from_google_drive(file_id = url,dest_path='./data.zip',unzip=True)\n"
      ],
      "execution_count": null,
      "outputs": []
    },
    {
      "cell_type": "code",
      "metadata": {
        "id": "7hlPaQS4e5VI",
        "colab": {
          "base_uri": "https://localhost:8080/"
        },
        "outputId": "8a5adc79-cb89-47c2-97ca-5cf739bc2d0e"
      },
      "source": [
        "!pip3 install face_recognition"
      ],
      "execution_count": null,
      "outputs": [
        {
          "output_type": "stream",
          "name": "stdout",
          "text": [
            "Collecting face_recognition\n",
            "  Downloading face_recognition-1.3.0-py2.py3-none-any.whl (15 kB)\n",
            "Collecting face-recognition-models>=0.3.0 (from face_recognition)\n",
            "  Downloading face_recognition_models-0.3.0.tar.gz (100.1 MB)\n",
            "\u001b[2K     \u001b[90m━━━━━━━━━━━━━━━━━━━━━━━━━━━━━━━━━━━━━━━━\u001b[0m \u001b[32m100.1/100.1 MB\u001b[0m \u001b[31m7.4 MB/s\u001b[0m eta \u001b[36m0:00:00\u001b[0m\n",
            "\u001b[?25h  Preparing metadata (setup.py) ... \u001b[?25l\u001b[?25hdone\n",
            "Requirement already satisfied: Click>=6.0 in /usr/local/lib/python3.10/dist-packages (from face_recognition) (8.1.7)\n",
            "Requirement already satisfied: dlib>=19.7 in /usr/local/lib/python3.10/dist-packages (from face_recognition) (19.24.2)\n",
            "Requirement already satisfied: numpy in /usr/local/lib/python3.10/dist-packages (from face_recognition) (1.25.2)\n",
            "Requirement already satisfied: Pillow in /usr/local/lib/python3.10/dist-packages (from face_recognition) (9.4.0)\n",
            "Building wheels for collected packages: face-recognition-models\n",
            "  Building wheel for face-recognition-models (setup.py) ... \u001b[?25l\u001b[?25hdone\n",
            "  Created wheel for face-recognition-models: filename=face_recognition_models-0.3.0-py2.py3-none-any.whl size=100566170 sha256=fea9aaf40a41716cc996a985f9574e72b35ae9dea63085027b83c4af4fd4d2a5\n",
            "  Stored in directory: /root/.cache/pip/wheels/7a/eb/cf/e9eced74122b679557f597bb7c8e4c739cfcac526db1fd523d\n",
            "Successfully built face-recognition-models\n",
            "Installing collected packages: face-recognition-models, face_recognition\n",
            "Successfully installed face-recognition-models-0.3.0 face_recognition-1.3.0\n"
          ]
        }
      ]
    },
    {
      "cell_type": "code",
      "metadata": {
        "id": "QZ22Sj8d0JoT",
        "colab": {
          "base_uri": "https://localhost:8080/"
        },
        "outputId": "494d34f2-55fb-47f8-814b-77b2ae260c1e"
      },
      "source": [
        "#THis code is to check if the video is corrupted or not..\n",
        "#If the video is corrupted delete the video.\n",
        "import glob\n",
        "import torch\n",
        "import torchvision\n",
        "from torchvision import transforms\n",
        "from torch.utils.data import DataLoader\n",
        "from torch.utils.data.dataset import Dataset\n",
        "import os\n",
        "import numpy as np\n",
        "import cv2\n",
        "import matplotlib.pyplot as plt\n",
        "import face_recognition\n",
        "#Check if the file is corrupted or not\n",
        "def validate_video(vid_path,train_transforms):\n",
        "      transform = train_transforms\n",
        "      count = 20\n",
        "      video_path = vid_path\n",
        "      frames = []\n",
        "      a = int(100/count)\n",
        "      first_frame = np.random.randint(0,a)\n",
        "      temp_video = video_path.split('/')[-1]\n",
        "      for i,frame in enumerate(frame_extract(video_path)):\n",
        "        frames.append(transform(frame))\n",
        "        if(len(frames) == count):\n",
        "          break\n",
        "      frames = torch.stack(frames)\n",
        "      frames = frames[:count]\n",
        "      return frames\n",
        "#extract a from from video\n",
        "def frame_extract(path):\n",
        "  vidObj = cv2.VideoCapture(path)\n",
        "  success = 1\n",
        "  while success:\n",
        "      success, image = vidObj.read()\n",
        "      if success:\n",
        "          yield image\n",
        "\n",
        "im_size = 112\n",
        "mean = [0.485, 0.456, 0.406]\n",
        "std = [0.229, 0.224, 0.225]\n",
        "\n",
        "train_transforms = transforms.Compose([\n",
        "                                        transforms.ToPILImage(),\n",
        "                                        transforms.Resize((im_size,im_size)),\n",
        "                                        transforms.ToTensor(),\n",
        "                                        transforms.Normalize(mean,std)])\n",
        "video_fil =  glob.glob('/content/drive/My Drive/Dataset/*.mp4')\n",
        "print(\"Total no of videos :\" , len(video_fil))\n",
        "print(video_fil)\n",
        "count = 0;\n",
        "for i in video_fil:\n",
        "  try:\n",
        "    count+=1\n",
        "    validate_video(i,train_transforms)\n",
        "  except:\n",
        "    print(\"Number of video processed: \" , count ,\" Remaining : \" , (len(video_fil) - count))\n",
        "    print(\"Corrupted video is : \" , i)\n",
        "    continue\n",
        "print((len(video_fil) - count))"
      ],
      "execution_count": null,
      "outputs": [
        {
          "output_type": "stream",
          "name": "stdout",
          "text": [
            "Total no of videos : 652\n",
            "['/content/drive/My Drive/dfdc_train_part_1/aassnaulhq.mp4', '/content/drive/My Drive/dfdc_train_part_1/abebnhqyzv.mp4', '/content/drive/My Drive/dfdc_train_part_1/adwbthsgqb.mp4', '/content/drive/My Drive/dfdc_train_part_1/abxtkdjyru.mp4', '/content/drive/My Drive/dfdc_train_part_1/acljesxipy.mp4', '/content/drive/My Drive/dfdc_train_part_1/aelsfznuqw.mp4', '/content/drive/My Drive/dfdc_train_part_1/aeovzefbpr.mp4', '/content/drive/My Drive/dfdc_train_part_1/afqfrfdowg.mp4', '/content/drive/My Drive/dfdc_train_part_1/agjxpidzyu.mp4', '/content/drive/My Drive/dfdc_train_part_1/aeudhfvcvk.mp4', '/content/drive/My Drive/dfdc_train_part_1/aijlttdlrj.mp4', '/content/drive/My Drive/dfdc_train_part_1/aheocfkxjx.mp4', '/content/drive/My Drive/dfdc_train_part_1/agplffthuy.mp4', '/content/drive/My Drive/dfdc_train_part_1/ajmuljcfkb.mp4', '/content/drive/My Drive/dfdc_train_part_1/ajqmtwoocc.mp4', '/content/drive/My Drive/dfdc_train_part_1/akfjqoantp.mp4', '/content/drive/My Drive/dfdc_train_part_1/akpfvadijp.mp4', '/content/drive/My Drive/dfdc_train_part_1/alqiqhnrza.mp4', '/content/drive/My Drive/dfdc_train_part_1/alfidaevix.mp4', '/content/drive/My Drive/dfdc_train_part_1/alkomvbvah.mp4', '/content/drive/My Drive/dfdc_train_part_1/alrtntfxtd.mp4', '/content/drive/My Drive/dfdc_train_part_1/alxffdisev.mp4', '/content/drive/My Drive/dfdc_train_part_1/amczvybpav.mp4', '/content/drive/My Drive/dfdc_train_part_1/anbswjhddl.mp4', '/content/drive/My Drive/dfdc_train_part_1/amwjdtnprx.mp4', '/content/drive/My Drive/dfdc_train_part_1/anklylpjpm.mp4', '/content/drive/My Drive/dfdc_train_part_1/anmzhupzpa.mp4', '/content/drive/My Drive/dfdc_train_part_1/anorupqpeo.mp4', '/content/drive/My Drive/dfdc_train_part_1/aoclawrydd.mp4', '/content/drive/My Drive/dfdc_train_part_1/aokxvqadsx.mp4', '/content/drive/My Drive/dfdc_train_part_1/aomqqjipcp.mp4', '/content/drive/My Drive/dfdc_train_part_1/aosnzkbllm.mp4', '/content/drive/My Drive/dfdc_train_part_1/aqdbtqggew.mp4', '/content/drive/My Drive/dfdc_train_part_1/aqejlaudtq.mp4', '/content/drive/My Drive/dfdc_train_part_1/ardmfelhgw.mp4', '/content/drive/My Drive/dfdc_train_part_1/aqrodorsgz.mp4', '/content/drive/My Drive/dfdc_train_part_1/aqrsylrzgi.mp4', '/content/drive/My Drive/dfdc_train_part_1/arvqhnzltg.mp4', '/content/drive/My Drive/dfdc_train_part_1/arkwqyuthh.mp4', '/content/drive/My Drive/dfdc_train_part_1/asnpsowhyj.mp4', '/content/drive/My Drive/dfdc_train_part_1/assnxglavo.mp4', '/content/drive/My Drive/dfdc_train_part_1/asweglrfni.mp4', '/content/drive/My Drive/dfdc_train_part_1/atisizneup.mp4', '/content/drive/My Drive/dfdc_train_part_1/atrmrdhzrk.mp4', '/content/drive/My Drive/dfdc_train_part_1/atuvrbyqor.mp4', '/content/drive/My Drive/dfdc_train_part_1/aunqfjmfqp.mp4', '/content/drive/My Drive/dfdc_train_part_1/avfhsplmya.mp4', '/content/drive/My Drive/dfdc_train_part_1/avcccznrft.mp4', '/content/drive/My Drive/dfdc_train_part_1/avhnnjtuqw.mp4', '/content/drive/My Drive/dfdc_train_part_1/avjwhrqbwl.mp4', '/content/drive/My Drive/dfdc_train_part_1/awjywmwplp.mp4', '/content/drive/My Drive/dfdc_train_part_1/avlmlshqjh.mp4', '/content/drive/My Drive/dfdc_train_part_1/awfddrmdst.mp4', '/content/drive/My Drive/dfdc_train_part_1/axefxbvfyn.mp4', '/content/drive/My Drive/dfdc_train_part_1/axgkbpxjvr.mp4', '/content/drive/My Drive/dfdc_train_part_1/awnhnhbbxm.mp4', '/content/drive/My Drive/dfdc_train_part_1/axjbcvrvje.mp4', '/content/drive/My Drive/dfdc_train_part_1/basjckrjdf.mp4', '/content/drive/My Drive/dfdc_train_part_1/bateuibxti.mp4', '/content/drive/My Drive/dfdc_train_part_1/bbhkszzsei.mp4', '/content/drive/My Drive/dfdc_train_part_1/bcbqxhziqz.mp4', '/content/drive/My Drive/dfdc_train_part_1/bbwbopxbrv.mp4', '/content/drive/My Drive/dfdc_train_part_1/bcavrprfct.mp4', '/content/drive/My Drive/dfdc_train_part_1/bciuzbjoxq.mp4', '/content/drive/My Drive/dfdc_train_part_1/bcunmpqmwf.mp4', '/content/drive/My Drive/dfdc_train_part_1/bdgcinijzt.mp4', '/content/drive/My Drive/dfdc_train_part_1/bdpwzkrofr.mp4', '/content/drive/My Drive/dfdc_train_part_1/bdsktfgzbz.mp4', '/content/drive/My Drive/dfdc_train_part_1/bdshuoldwx.mp4', '/content/drive/My Drive/dfdc_train_part_1/beoobdybbw.mp4', '/content/drive/My Drive/dfdc_train_part_1/bfeewgzrbr.mp4', '/content/drive/My Drive/dfdc_train_part_1/bewbohouqa.mp4', '/content/drive/My Drive/dfdc_train_part_1/bdvqwpqmag.mp4', '/content/drive/My Drive/dfdc_train_part_1/beclytxiol.mp4', '/content/drive/My Drive/dfdc_train_part_1/bfmvjimrqn.mp4', '/content/drive/My Drive/dfdc_train_part_1/bfpqojyrkp.mp4', '/content/drive/My Drive/dfdc_train_part_1/bgwmechesv.mp4', '/content/drive/My Drive/dfdc_train_part_1/bgyaqospgo.mp4', '/content/drive/My Drive/dfdc_train_part_1/bhbbqmdjkv.mp4', '/content/drive/My Drive/dfdc_train_part_1/bhfxttitcb.mp4', '/content/drive/My Drive/dfdc_train_part_1/bgtgxubqmy.mp4', '/content/drive/My Drive/dfdc_train_part_1/bjuhnomrsu.mp4', '/content/drive/My Drive/dfdc_train_part_1/bittxslmgp.mp4', '/content/drive/My Drive/dfdc_train_part_1/bjnmhhoayf.mp4', '/content/drive/My Drive/dfdc_train_part_1/bjyaxvggle.mp4', '/content/drive/My Drive/dfdc_train_part_1/bjeiutsvuz.mp4', '/content/drive/My Drive/dfdc_train_part_1/bhiprtqyon.mp4', '/content/drive/My Drive/dfdc_train_part_1/blszgmxkvu.mp4', '/content/drive/My Drive/dfdc_train_part_1/bkzrsfcrcr.mp4', '/content/drive/My Drive/dfdc_train_part_1/bkxxbtsvkz.mp4', '/content/drive/My Drive/dfdc_train_part_1/blkbkvcffn.mp4', '/content/drive/My Drive/dfdc_train_part_1/bkwqojntbf.mp4', '/content/drive/My Drive/dfdc_train_part_1/blncrpznaa.mp4', '/content/drive/My Drive/dfdc_train_part_1/bkuzquigyt.mp4', '/content/drive/My Drive/dfdc_train_part_1/bnuwxhfahw.mp4', '/content/drive/My Drive/dfdc_train_part_1/bmsoarcvmn.mp4', '/content/drive/My Drive/dfdc_train_part_1/bmwacwpmqf.mp4', '/content/drive/My Drive/dfdc_train_part_1/bnaqqefxll.mp4', '/content/drive/My Drive/dfdc_train_part_1/bmffrysoii.mp4', '/content/drive/My Drive/dfdc_train_part_1/bnjpqypcmg.mp4', '/content/drive/My Drive/dfdc_train_part_1/brftztqwxi.mp4', '/content/drive/My Drive/dfdc_train_part_1/bpcimjvhlu.mp4', '/content/drive/My Drive/dfdc_train_part_1/bpqrwvichd.mp4', '/content/drive/My Drive/dfdc_train_part_1/bpartnwakp.mp4', '/content/drive/My Drive/dfdc_train_part_1/bpwudenryg.mp4', '/content/drive/My Drive/dfdc_train_part_1/bqhpbchtjr.mp4', '/content/drive/My Drive/dfdc_train_part_1/btodwmstfj.mp4', '/content/drive/My Drive/dfdc_train_part_1/bsarexshsm.mp4', '/content/drive/My Drive/dfdc_train_part_1/bsbyvsgodg.mp4', '/content/drive/My Drive/dfdc_train_part_1/btfsgaxvym.mp4', '/content/drive/My Drive/dfdc_train_part_1/btfeympfrf.mp4', '/content/drive/My Drive/dfdc_train_part_1/bwdmzwhdnw.mp4', '/content/drive/My Drive/dfdc_train_part_1/bvaffyvyjy.mp4', '/content/drive/My Drive/dfdc_train_part_1/bvekwhumry.mp4', '/content/drive/My Drive/dfdc_train_part_1/buratlofzz.mp4', '/content/drive/My Drive/dfdc_train_part_1/bugiwrwsfe.mp4', '/content/drive/My Drive/dfdc_train_part_1/btqmbxcpsc.mp4', '/content/drive/My Drive/dfdc_train_part_1/bvpeerislp.mp4', '/content/drive/My Drive/dfdc_train_part_1/bwspwiymvk.mp4', '/content/drive/My Drive/dfdc_train_part_1/bxoykchsnk.mp4', '/content/drive/My Drive/dfdc_train_part_1/byrzacjmjl.mp4', '/content/drive/My Drive/dfdc_train_part_1/bwkddsdoqj.mp4', '/content/drive/My Drive/dfdc_train_part_1/bydtnhfnyp.mp4', '/content/drive/My Drive/dfdc_train_part_1/cakngmoakn.mp4', '/content/drive/My Drive/dfdc_train_part_1/cdxwmzxudd.mp4', '/content/drive/My Drive/dfdc_train_part_1/caoabtjtyo.mp4', '/content/drive/My Drive/dfdc_train_part_1/cctrhqvein.mp4', '/content/drive/My Drive/dfdc_train_part_1/ccaequtltd.mp4', '/content/drive/My Drive/dfdc_train_part_1/bzqzktvzdn.mp4', '/content/drive/My Drive/dfdc_train_part_1/cfeykevqdx.mp4', '/content/drive/My Drive/dfdc_train_part_1/cfsbzeyhpl.mp4', '/content/drive/My Drive/dfdc_train_part_1/cgkorxrqlv.mp4', '/content/drive/My Drive/dfdc_train_part_1/cglveitybx.mp4', '/content/drive/My Drive/dfdc_train_part_1/cgzehrnpvv.mp4', '/content/drive/My Drive/dfdc_train_part_1/ckgpztnbvc.mp4', '/content/drive/My Drive/dfdc_train_part_1/cjoykobwyh.mp4', '/content/drive/My Drive/dfdc_train_part_1/ciaxcxtxix.mp4', '/content/drive/My Drive/dfdc_train_part_1/ckeuvnxric.mp4', '/content/drive/My Drive/dfdc_train_part_1/cixupjraoc.mp4', '/content/drive/My Drive/dfdc_train_part_1/clrdxzhlzn.mp4', '/content/drive/My Drive/dfdc_train_part_1/ckslhjdcdj.mp4', '/content/drive/My Drive/dfdc_train_part_1/ckwdmymgfn.mp4', '/content/drive/My Drive/dfdc_train_part_1/cktulounod.mp4', '/content/drive/My Drive/dfdc_train_part_1/cloymwmsgb.mp4', '/content/drive/My Drive/dfdc_train_part_1/cnbxddelwb.mp4', '/content/drive/My Drive/dfdc_train_part_1/cmsgfgmofg.mp4', '/content/drive/My Drive/dfdc_train_part_1/cmxooumvba.mp4', '/content/drive/My Drive/dfdc_train_part_1/cmwqaulwau.mp4', '/content/drive/My Drive/dfdc_train_part_1/cnbgfhcdkl.mp4', '/content/drive/My Drive/dfdc_train_part_1/cmdfrlzaou.mp4', '/content/drive/My Drive/dfdc_train_part_1/cnvpcernca.mp4', '/content/drive/My Drive/dfdc_train_part_1/cnpanmywno.mp4', '/content/drive/My Drive/dfdc_train_part_1/codllgchjp.mp4', '/content/drive/My Drive/dfdc_train_part_1/cohkwaxnvw.mp4', '/content/drive/My Drive/dfdc_train_part_1/cobiwoqcbv.mp4', '/content/drive/My Drive/dfdc_train_part_1/cogxmahduk.mp4', '/content/drive/My Drive/dfdc_train_part_1/cpzrjqnffi.mp4', '/content/drive/My Drive/dfdc_train_part_1/comqkwjrft.mp4', '/content/drive/My Drive/dfdc_train_part_1/cosghhimnd.mp4', '/content/drive/My Drive/dfdc_train_part_1/cpxzktdxsi.mp4', '/content/drive/My Drive/dfdc_train_part_1/couoovfwtb.mp4', '/content/drive/My Drive/dfdc_train_part_1/coqwgzpbhx.mp4', '/content/drive/My Drive/dfdc_train_part_1/crhelcitmz.mp4', '/content/drive/My Drive/dfdc_train_part_1/cqxxumarvp.mp4', '/content/drive/My Drive/dfdc_train_part_1/cqvmcswepa.mp4', '/content/drive/My Drive/dfdc_train_part_1/cqynoztleq.mp4', '/content/drive/My Drive/dfdc_train_part_1/cqtjxkuwrv.mp4', '/content/drive/My Drive/dfdc_train_part_1/ctsahczkhr.mp4', '/content/drive/My Drive/dfdc_train_part_1/cubwixjevd.mp4', '/content/drive/My Drive/dfdc_train_part_1/cvnfjpkgyi.mp4', '/content/drive/My Drive/dfdc_train_part_1/cutfpzdonm.mp4', '/content/drive/My Drive/dfdc_train_part_1/cuxzeadqfe.mp4', '/content/drive/My Drive/dfdc_train_part_1/ctwyfomddo.mp4', '/content/drive/My Drive/dfdc_train_part_1/cuvcxavplw.mp4', '/content/drive/My Drive/dfdc_train_part_1/cxbuowwwsr.mp4', '/content/drive/My Drive/dfdc_train_part_1/cwykfzwimc.mp4', '/content/drive/My Drive/dfdc_train_part_1/cxccagkrpt.mp4', '/content/drive/My Drive/dfdc_train_part_1/cwjkdlzrvb.mp4', '/content/drive/My Drive/dfdc_train_part_1/cvrkocprnk.mp4', '/content/drive/My Drive/dfdc_train_part_1/cwbaihpjtx.mp4', '/content/drive/My Drive/dfdc_train_part_1/cxenptrtzm.mp4', '/content/drive/My Drive/dfdc_train_part_1/cxiitnbzie.mp4', '/content/drive/My Drive/dfdc_train_part_1/cxsvvnxpyz.mp4', '/content/drive/My Drive/dfdc_train_part_1/cxvkgrbaku.mp4', '/content/drive/My Drive/dfdc_train_part_1/cxoxqdwvin.mp4', '/content/drive/My Drive/dfdc_train_part_1/czugwbbiox.mp4', '/content/drive/My Drive/dfdc_train_part_1/czjxkqbhmy.mp4', '/content/drive/My Drive/dfdc_train_part_1/czjeannjmi.mp4', '/content/drive/My Drive/dfdc_train_part_1/cynckdnzjh.mp4', '/content/drive/My Drive/dfdc_train_part_1/cyedbeujok.mp4', '/content/drive/My Drive/dfdc_train_part_1/cxzqexgpeu.mp4', '/content/drive/My Drive/dfdc_train_part_1/dakrqpseiv.mp4', '/content/drive/My Drive/dfdc_train_part_1/dcjpplfvok.mp4', '/content/drive/My Drive/dfdc_train_part_1/czupmkgroe.mp4', '/content/drive/My Drive/dfdc_train_part_1/datjrwctmd.mp4', '/content/drive/My Drive/dfdc_train_part_1/daseneexra.mp4', '/content/drive/My Drive/dfdc_train_part_1/dbzpqxlahq.mp4', '/content/drive/My Drive/dfdc_train_part_1/dcvvmkvpna.mp4', '/content/drive/My Drive/dfdc_train_part_1/dedaztepmu.mp4', '/content/drive/My Drive/dfdc_train_part_1/dcnegjsubk.mp4', '/content/drive/My Drive/dfdc_train_part_1/ddkuilhous.mp4', '/content/drive/My Drive/dfdc_train_part_1/defxubrwdp.mp4', '/content/drive/My Drive/dfdc_train_part_1/ddcfzufmyd.mp4', '/content/drive/My Drive/dfdc_train_part_1/dfhthnhzrb.mp4', '/content/drive/My Drive/dfdc_train_part_1/dfujkgpzvc.mp4', '/content/drive/My Drive/dfdc_train_part_1/dekkxfgplf.mp4', '/content/drive/My Drive/dfdc_train_part_1/dfkeosenua.mp4', '/content/drive/My Drive/dfdc_train_part_1/dfgihdrqqu.mp4', '/content/drive/My Drive/dfdc_train_part_1/dhtmhszncm.mp4', '/content/drive/My Drive/dfdc_train_part_1/dgsqlajbme.mp4', '/content/drive/My Drive/dfdc_train_part_1/dgubmmyddl.mp4', '/content/drive/My Drive/dfdc_train_part_1/dikzljabcv.mp4', '/content/drive/My Drive/dfdc_train_part_1/dfvudaojxn.mp4', '/content/drive/My Drive/dfdc_train_part_1/dfynybcnzh.mp4', '/content/drive/My Drive/dfdc_train_part_1/dgdhzkpvra.mp4', '/content/drive/My Drive/dfdc_train_part_1/dimizkqjfg.mp4', '/content/drive/My Drive/dfdc_train_part_1/dlxvbfdfny.mp4', '/content/drive/My Drive/dfdc_train_part_1/dlykyjfanz.mp4', '/content/drive/My Drive/dfdc_train_part_1/dksitwzgcb.mp4', '/content/drive/My Drive/dfdc_train_part_1/dkuqbduxev.mp4', '/content/drive/My Drive/dfdc_train_part_1/djjgzhluss.mp4', '/content/drive/My Drive/dfdc_train_part_1/dmvalkjehr.mp4', '/content/drive/My Drive/dfdc_train_part_1/dmupfdcvca.mp4', '/content/drive/My Drive/dfdc_train_part_1/dnhavqrzzy.mp4', '/content/drive/My Drive/dfdc_train_part_1/dmyaexuqpr.mp4', '/content/drive/My Drive/dfdc_train_part_1/dngtoszjnq.mp4', '/content/drive/My Drive/dfdc_train_part_1/doeuqrqbmr.mp4', '/content/drive/My Drive/dfdc_train_part_1/dorerwjhvj.mp4', '/content/drive/My Drive/dfdc_train_part_1/dpmiopituf.mp4', '/content/drive/My Drive/dfdc_train_part_1/dontwxbnza.mp4', '/content/drive/My Drive/dfdc_train_part_1/dpdqwygcrc.mp4', '/content/drive/My Drive/dfdc_train_part_1/dpmngbibio.mp4', '/content/drive/My Drive/dfdc_train_part_1/dozjwhnedd.mp4', '/content/drive/My Drive/dfdc_train_part_1/dpmfmgxxde.mp4', '/content/drive/My Drive/dfdc_train_part_1/dsfjdogysp.mp4', '/content/drive/My Drive/dfdc_train_part_1/drbacjdatw.mp4', '/content/drive/My Drive/dfdc_train_part_1/dsertupxsw.mp4', '/content/drive/My Drive/dfdc_train_part_1/dqcamrpobq.mp4', '/content/drive/My Drive/dfdc_train_part_1/drqcntgrhf.mp4', '/content/drive/My Drive/dfdc_train_part_1/drkgogkpqi.mp4', '/content/drive/My Drive/dfdc_train_part_1/dvtpwatuja.mp4', '/content/drive/My Drive/dfdc_train_part_1/dvwpvqdflx.mp4', '/content/drive/My Drive/dfdc_train_part_1/dwgfrzahmr.mp4', '/content/drive/My Drive/dfdc_train_part_1/dtcjjbfosp.mp4', '/content/drive/My Drive/dfdc_train_part_1/dwardtgkwh.mp4', '/content/drive/My Drive/dfdc_train_part_1/dvkdfhrpph.mp4', '/content/drive/My Drive/dfdc_train_part_1/dwnhdzuydq.mp4', '/content/drive/My Drive/dfdc_train_part_1/dygglqlujl.mp4', '/content/drive/My Drive/dfdc_train_part_1/dxmijrrmbx.mp4', '/content/drive/My Drive/dfdc_train_part_1/dwhobkntoq.mp4', '/content/drive/My Drive/dfdc_train_part_1/dxgewerqli.mp4', '/content/drive/My Drive/dfdc_train_part_1/dymbelijah.mp4', '/content/drive/My Drive/dfdc_train_part_1/dzshbwcwyu.mp4', '/content/drive/My Drive/dfdc_train_part_1/dztvxrzuta.mp4', '/content/drive/My Drive/dfdc_train_part_1/dzrrklwrgn.mp4', '/content/drive/My Drive/dfdc_train_part_1/dzdbunuaag.mp4', '/content/drive/My Drive/dfdc_train_part_1/dysqgsohru.mp4', '/content/drive/My Drive/dfdc_train_part_1/dzlblcmrqc.mp4', '/content/drive/My Drive/dfdc_train_part_1/eabjipvech.mp4', '/content/drive/My Drive/dfdc_train_part_1/eccwrliesa.mp4', '/content/drive/My Drive/dfdc_train_part_1/ebwvoufqvr.mp4', '/content/drive/My Drive/dfdc_train_part_1/ecumyiowzs.mp4', '/content/drive/My Drive/dfdc_train_part_1/ebpxbudvzv.mp4', '/content/drive/My Drive/dfdc_train_part_1/eceoujbjts.mp4', '/content/drive/My Drive/dfdc_train_part_1/ebrqqkgqnw.mp4', '/content/drive/My Drive/dfdc_train_part_1/ebdblblfiy.mp4', '/content/drive/My Drive/dfdc_train_part_1/eehvawzjgy.mp4', '/content/drive/My Drive/dfdc_train_part_1/eeendmhkkm.mp4', '/content/drive/My Drive/dfdc_train_part_1/efuzqmxhww.mp4', '/content/drive/My Drive/dfdc_train_part_1/efmsxlltcc.mp4', '/content/drive/My Drive/dfdc_train_part_1/edudlkyelu.mp4', '/content/drive/My Drive/dfdc_train_part_1/egulmgdddz.mp4', '/content/drive/My Drive/dfdc_train_part_1/ehthgupumf.mp4', '/content/drive/My Drive/dfdc_train_part_1/eiayatksud.mp4', '/content/drive/My Drive/dfdc_train_part_1/ehrtdalgon.mp4', '/content/drive/My Drive/dfdc_train_part_1/ehqihqvjos.mp4', '/content/drive/My Drive/dfdc_train_part_1/ehuazwrzbn.mp4', '/content/drive/My Drive/dfdc_train_part_1/eiixwxgauo.mp4', '/content/drive/My Drive/dfdc_train_part_1/ehgnwomhxb.mp4', '/content/drive/My Drive/dfdc_train_part_1/ekalngzvwx.mp4', '/content/drive/My Drive/dfdc_train_part_1/ekelfsnqof.mp4', '/content/drive/My Drive/dfdc_train_part_1/eknoxdhyot.mp4', '/content/drive/My Drive/dfdc_train_part_1/ejagjdpovw.mp4', '/content/drive/My Drive/dfdc_train_part_1/ekfiewirjs.mp4', '/content/drive/My Drive/dfdc_train_part_1/ekedvskayy.mp4', '/content/drive/My Drive/dfdc_train_part_1/enljrpodub.mp4', '/content/drive/My Drive/dfdc_train_part_1/enpnclhmik.mp4', '/content/drive/My Drive/dfdc_train_part_1/endyepvcxe.mp4', '/content/drive/My Drive/dfdc_train_part_1/emfkryqdmk.mp4', '/content/drive/My Drive/dfdc_train_part_1/emwbovxems.mp4', '/content/drive/My Drive/dfdc_train_part_1/emqeprwwpi.mp4', '/content/drive/My Drive/dfdc_train_part_1/eorosxkrht.mp4', '/content/drive/My Drive/dfdc_train_part_1/eoiivyirku.mp4', '/content/drive/My Drive/dfdc_train_part_1/eoshntcipd.mp4', '/content/drive/My Drive/dfdc_train_part_1/eojslldtza.mp4', '/content/drive/My Drive/dfdc_train_part_1/enrrlpgbeg.mp4', '/content/drive/My Drive/dfdc_train_part_1/eobtpresst.mp4', '/content/drive/My Drive/dfdc_train_part_1/eppozcvlub.mp4', '/content/drive/My Drive/dfdc_train_part_1/epeiodtait.mp4', '/content/drive/My Drive/dfdc_train_part_1/eqsnaqrnmz.mp4', '/content/drive/My Drive/dfdc_train_part_1/eqbyeipxqh.mp4', '/content/drive/My Drive/dfdc_train_part_1/eqslzbqfea.mp4', '/content/drive/My Drive/dfdc_train_part_1/erdozpufuh.mp4', '/content/drive/My Drive/dfdc_train_part_1/erzfabwflz.mp4', '/content/drive/My Drive/dfdc_train_part_1/ercqmajdid.mp4', '/content/drive/My Drive/dfdc_train_part_1/ercvulggxk.mp4', '/content/drive/My Drive/dfdc_train_part_1/eryjktdexi.mp4', '/content/drive/My Drive/dfdc_train_part_1/esvhogkdzs.mp4', '/content/drive/My Drive/dfdc_train_part_1/ettliojswb.mp4', '/content/drive/My Drive/dfdc_train_part_1/etxmshgclx.mp4', '/content/drive/My Drive/dfdc_train_part_1/etkmawxvet.mp4', '/content/drive/My Drive/dfdc_train_part_1/etqyrutfok.mp4', '/content/drive/My Drive/dfdc_train_part_1/eugmwsetxd.mp4', '/content/drive/My Drive/dfdc_train_part_1/eszjbqahzh.mp4', '/content/drive/My Drive/dfdc_train_part_1/eupisnxhsb.mp4', '/content/drive/My Drive/dfdc_train_part_1/euqtwhhwwr.mp4', '/content/drive/My Drive/dfdc_train_part_1/euictoiuma.mp4', '/content/drive/My Drive/dfdc_train_part_1/evblkrxmto.mp4', '/content/drive/My Drive/dfdc_train_part_1/evvqlsuerd.mp4', '/content/drive/My Drive/dfdc_train_part_1/ewpkerhxfb.mp4', '/content/drive/My Drive/dfdc_train_part_1/extbidooov.mp4', '/content/drive/My Drive/dfdc_train_part_1/eyfliddvar.mp4', '/content/drive/My Drive/dfdc_train_part_1/ewsdluigpt.mp4', '/content/drive/My Drive/dfdc_train_part_1/ewregmzonc.mp4', '/content/drive/My Drive/dfdc_train_part_1/eyguqfmgzh.mp4', '/content/drive/My Drive/dfdc_train_part_1/eynxajczkd.mp4', '/content/drive/My Drive/dfdc_train_part_1/ezmfsviyuc.mp4', '/content/drive/My Drive/dfdc_train_part_1/ezbyfrzjqx.mp4', '/content/drive/My Drive/dfdc_train_part_1/ezygtbroex.mp4', '/content/drive/My Drive/dfdc_train_part_1/fakcmcbsax.mp4', '/content/drive/My Drive/dfdc_train_part_1/ezynyiyewj.mp4', '/content/drive/My Drive/dfdc_train_part_1/faelhvqael.mp4', '/content/drive/My Drive/dfdc_train_part_1/fbnnthkegg.mp4', '/content/drive/My Drive/dfdc_train_part_1/famlupsgqm.mp4', '/content/drive/My Drive/dfdc_train_part_1/faksztjsrs.mp4', '/content/drive/My Drive/dfdc_train_part_1/fapmcxyhqb.mp4', '/content/drive/My Drive/dfdc_train_part_1/fcdndpddtw.mp4', '/content/drive/My Drive/dfdc_train_part_1/fbrhorisro.mp4', '/content/drive/My Drive/dfdc_train_part_1/fboldtukcp.mp4', '/content/drive/My Drive/dfdc_train_part_1/fchipwcorl.mp4', '/content/drive/My Drive/dfdc_train_part_1/fcujmrcwbl.mp4', '/content/drive/My Drive/dfdc_train_part_1/fcdwmtqhzb.mp4', '/content/drive/My Drive/dfdc_train_part_1/fdadpyzrgm.mp4', '/content/drive/My Drive/dfdc_train_part_1/fddmkqjwsh.mp4', '/content/drive/My Drive/dfdc_train_part_1/fdhcjnyhec.mp4', '/content/drive/My Drive/dfdc_train_part_1/fdqqzjrcqb.mp4', '/content/drive/My Drive/dfdc_train_part_1/fdkbmfdohh.mp4', '/content/drive/My Drive/dfdc_train_part_1/feaqorbkar.mp4', '/content/drive/My Drive/dfdc_train_part_1/fepjqbsqbk.mp4', '/content/drive/My Drive/dfdc_train_part_1/fehyoxtiwl.mp4', '/content/drive/My Drive/dfdc_train_part_1/ffqyvkfady.mp4', '/content/drive/My Drive/dfdc_train_part_1/fernwnthuy.mp4', '/content/drive/My Drive/dfdc_train_part_1/ffolstniaz.mp4', '/content/drive/My Drive/dfdc_train_part_1/fgwiypyxom.mp4', '/content/drive/My Drive/dfdc_train_part_1/fgwsgolela.mp4', '/content/drive/My Drive/dfdc_train_part_1/fhfclibybo.mp4', '/content/drive/My Drive/dfdc_train_part_1/fiqhctxfus.mp4', '/content/drive/My Drive/dfdc_train_part_1/fhfnixrhws.mp4', '/content/drive/My Drive/dfdc_train_part_1/fjzficggmo.mp4', '/content/drive/My Drive/dfdc_train_part_1/fjfngtoihc.mp4', '/content/drive/My Drive/dfdc_train_part_1/fjzrvkleur.mp4', '/content/drive/My Drive/dfdc_train_part_1/fjfvsdxxkh.mp4', '/content/drive/My Drive/dfdc_train_part_1/fksuepmjfx.mp4', '/content/drive/My Drive/dfdc_train_part_1/fkwadedwfe.mp4', '/content/drive/My Drive/dfdc_train_part_1/fkiuwyyzjt.mp4', '/content/drive/My Drive/dfdc_train_part_1/fkmvxejhvf.mp4', '/content/drive/My Drive/dfdc_train_part_1/flfrcaoluu.mp4', '/content/drive/My Drive/dfdc_train_part_1/flndbxfdta.mp4', '/content/drive/My Drive/dfdc_train_part_1/fkwucbqnot.mp4', '/content/drive/My Drive/dfdc_train_part_1/flvgffvrxx.mp4', '/content/drive/My Drive/dfdc_train_part_1/flycpukhem.mp4', '/content/drive/My Drive/dfdc_train_part_1/flzgswyggs.mp4', '/content/drive/My Drive/dfdc_train_part_1/flzzatdnub.mp4', '/content/drive/My Drive/dfdc_train_part_1/fnapjgrqwt.mp4', '/content/drive/My Drive/dfdc_train_part_1/fnbaeljuyt.mp4', '/content/drive/My Drive/dfdc_train_part_1/fmtryaszxl.mp4', '/content/drive/My Drive/dfdc_train_part_1/fmhiujydwo.mp4', '/content/drive/My Drive/dfdc_train_part_1/fnchjaowdq.mp4', '/content/drive/My Drive/dfdc_train_part_1/fomaiyrtin.mp4', '/content/drive/My Drive/dfdc_train_part_1/fnxgqcvlsd.mp4', '/content/drive/My Drive/dfdc_train_part_1/fnegaaozcp.mp4', '/content/drive/My Drive/dfdc_train_part_1/fneqiqpqvs.mp4', '/content/drive/My Drive/dfdc_train_part_1/fpawgawyqs.mp4', '/content/drive/My Drive/dfdc_train_part_1/foxjgyoumr.mp4', '/content/drive/My Drive/dfdc_train_part_1/fpevfidstw.mp4', '/content/drive/My Drive/dfdc_train_part_1/fpnqkovisx.mp4', '/content/drive/My Drive/dfdc_train_part_1/fphsgphdcd.mp4', '/content/drive/My Drive/dfdc_train_part_1/fpbcmfberh.mp4', '/content/drive/My Drive/dfdc_train_part_1/fqnvpbvfmf.mp4', '/content/drive/My Drive/dfdc_train_part_1/fqxionszxk.mp4', '/content/drive/My Drive/dfdc_train_part_1/frqfsucgao.mp4', '/content/drive/My Drive/dfdc_train_part_1/fqjrylvphp.mp4', '/content/drive/My Drive/dfdc_train_part_1/ftylolqzmd.mp4', '/content/drive/My Drive/dfdc_train_part_1/ftggcbqwpw.mp4', '/content/drive/My Drive/dfdc_train_part_1/fuqgzmlfcx.mp4', '/content/drive/My Drive/dfdc_train_part_1/fvhcsmkpvc.mp4', '/content/drive/My Drive/dfdc_train_part_1/fvqgnobwab.mp4', '/content/drive/My Drive/dfdc_train_part_1/fvmtnwkoab.mp4', '/content/drive/My Drive/dfdc_train_part_1/fwykevubzy.mp4', '/content/drive/My Drive/dfdc_train_part_1/fwifdmqqjc.mp4', '/content/drive/My Drive/dfdc_train_part_1/fwxumlhoma.mp4', '/content/drive/My Drive/dfdc_train_part_1/fyfbkzthko.mp4', '/content/drive/My Drive/dfdc_train_part_1/fxvvifwvir.mp4', '/content/drive/My Drive/dfdc_train_part_1/fyiymoftcx.mp4', '/content/drive/My Drive/dfdc_train_part_1/fykblvrxon.mp4', '/content/drive/My Drive/dfdc_train_part_1/fymagspffs.mp4', '/content/drive/My Drive/dfdc_train_part_1/fypipkbohl.mp4', '/content/drive/My Drive/dfdc_train_part_1/fytxleslqt.mp4', '/content/drive/My Drive/dfdc_train_part_1/fyuimnkemv.mp4', '/content/drive/My Drive/dfdc_train_part_1/fyyyoslpgo.mp4', '/content/drive/My Drive/dfdc_train_part_1/fyygfkcsqq.mp4', '/content/drive/My Drive/dfdc_train_part_1/fzoszfqzfp.mp4', '/content/drive/My Drive/dfdc_train_part_1/gabjvcgjcg.mp4', '/content/drive/My Drive/dfdc_train_part_1/fzxrxhcwou.mp4', '/content/drive/My Drive/dfdc_train_part_1/gafhwdmidq.mp4', '/content/drive/My Drive/dfdc_train_part_1/gahgyuwzbu.mp4', '/content/drive/My Drive/dfdc_train_part_1/gaofaacklg.mp4', '/content/drive/My Drive/dfdc_train_part_1/galsstznjd.mp4', '/content/drive/My Drive/dfdc_train_part_1/gauasgbohq.mp4', '/content/drive/My Drive/dfdc_train_part_1/gbzcutzxal.mp4', '/content/drive/My Drive/dfdc_train_part_1/gcidegwthx.mp4', '/content/drive/My Drive/dfdc_train_part_1/gbnjqvxvzj.mp4', '/content/drive/My Drive/dfdc_train_part_1/gctqacnjyy.mp4', '/content/drive/My Drive/dfdc_train_part_1/gckdxfrstd.mp4', '/content/drive/My Drive/dfdc_train_part_1/gdpxgankmr.mp4', '/content/drive/My Drive/dfdc_train_part_1/gdezlfgevn.mp4', '/content/drive/My Drive/dfdc_train_part_1/gerhijzwvq.mp4', '/content/drive/My Drive/dfdc_train_part_1/gemusoofds.mp4', '/content/drive/My Drive/dfdc_train_part_1/geglgdrsgp.mp4', '/content/drive/My Drive/dfdc_train_part_1/getnigqbls.mp4', '/content/drive/My Drive/dfdc_train_part_1/gfdocnszxc.mp4', '/content/drive/My Drive/dfdc_train_part_1/gftkrnewfv.mp4', '/content/drive/My Drive/dfdc_train_part_1/gftdzhtvuc.mp4', '/content/drive/My Drive/dfdc_train_part_1/ggdpjgafmp.mp4', '/content/drive/My Drive/dfdc_train_part_1/ghdicklvxv.mp4', '/content/drive/My Drive/dfdc_train_part_1/gfvqybxcrk.mp4', '/content/drive/My Drive/dfdc_train_part_1/gjszqpngyq.mp4', '/content/drive/My Drive/dfdc_train_part_1/giyzvhswtk.mp4', '/content/drive/My Drive/dfdc_train_part_1/ghnpsltzyn.mp4', '/content/drive/My Drive/dfdc_train_part_1/gkfnbyclxy.mp4', '/content/drive/My Drive/dfdc_train_part_1/gknyztlxxl.mp4', '/content/drive/My Drive/dfdc_train_part_1/gkqoskbqfl.mp4', '/content/drive/My Drive/dfdc_train_part_1/gkqzhnqfxo.mp4', '/content/drive/My Drive/dfdc_train_part_1/gkutjglghz.mp4', '/content/drive/My Drive/dfdc_train_part_1/glwlomfblb.mp4', '/content/drive/My Drive/dfdc_train_part_1/glxhiyxyup.mp4', '/content/drive/My Drive/dfdc_train_part_1/gmvebzkncg.mp4', '/content/drive/My Drive/dfdc_train_part_1/gmdoyjvcnu.mp4', '/content/drive/My Drive/dfdc_train_part_1/gnnbtnjqto.mp4', '/content/drive/My Drive/dfdc_train_part_1/gngeqyrkfo.mp4', '/content/drive/My Drive/dfdc_train_part_1/gnoqqplafe.mp4', '/content/drive/My Drive/dfdc_train_part_1/goiyhxbylg.mp4', '/content/drive/My Drive/dfdc_train_part_1/goecylbbks.mp4', '/content/drive/My Drive/dfdc_train_part_1/gnpaehuyie.mp4', '/content/drive/My Drive/dfdc_train_part_1/gshruegrcb.mp4', '/content/drive/My Drive/dfdc_train_part_1/gruiiadqrh.mp4', '/content/drive/My Drive/dfdc_train_part_1/gswszvoojm.mp4', '/content/drive/My Drive/dfdc_train_part_1/gsshxchgqv.mp4', '/content/drive/My Drive/dfdc_train_part_1/gunamloolc.mp4', '/content/drive/My Drive/dfdc_train_part_1/guwmrgcgrb.mp4', '/content/drive/My Drive/dfdc_train_part_1/gvczsjkuan.mp4', '/content/drive/My Drive/dfdc_train_part_1/gvckxlrkmh.mp4', '/content/drive/My Drive/dfdc_train_part_1/gwduldervr.mp4', '/content/drive/My Drive/dfdc_train_part_1/gvulrwphov.mp4', '/content/drive/My Drive/dfdc_train_part_1/gvxiqjjkab.mp4', '/content/drive/My Drive/dfdc_train_part_1/gwtdydogdb.mp4', '/content/drive/My Drive/dfdc_train_part_1/gwwtpriqcy.mp4', '/content/drive/My Drive/dfdc_train_part_1/gxuncqgppg.mp4', '/content/drive/My Drive/dfdc_train_part_1/gwxegwtsaj.mp4', '/content/drive/My Drive/dfdc_train_part_1/gxnjgokfrs.mp4', '/content/drive/My Drive/dfdc_train_part_1/gyboojigst.mp4', '/content/drive/My Drive/dfdc_train_part_1/gzfkpecqls.mp4', '/content/drive/My Drive/dfdc_train_part_1/hbaejewdii.mp4', '/content/drive/My Drive/dfdc_train_part_1/gzbagbdubm.mp4', '/content/drive/My Drive/dfdc_train_part_1/gyiknkigjg.mp4', '/content/drive/My Drive/dfdc_train_part_1/gylcfcozce.mp4', '/content/drive/My Drive/dfdc_train_part_1/hdsmxpwkyq.mp4', '/content/drive/My Drive/dfdc_train_part_1/hbxqkxulgp.mp4', '/content/drive/My Drive/dfdc_train_part_1/hbhnsldfzo.mp4', '/content/drive/My Drive/dfdc_train_part_1/hcrqgttdrc.mp4', '/content/drive/My Drive/dfdc_train_part_1/hegomtnjrv.mp4', '/content/drive/My Drive/dfdc_train_part_1/hbufmvbium.mp4', '/content/drive/My Drive/dfdc_train_part_1/hbnwrzcfiy.mp4', '/content/drive/My Drive/dfdc_train_part_1/hfxgbbeapi.mp4', '/content/drive/My Drive/dfdc_train_part_1/hfedtplyys.mp4', '/content/drive/My Drive/dfdc_train_part_1/hfsvqabzfq.mp4', '/content/drive/My Drive/dfdc_train_part_1/hgbqlfyici.mp4', '/content/drive/My Drive/dfdc_train_part_1/hftjyfuqcs.mp4', '/content/drive/My Drive/dfdc_train_part_1/hezqkhggsd.mp4', '/content/drive/My Drive/dfdc_train_part_1/hezbrjjjba.mp4', '/content/drive/My Drive/dfdc_train_part_1/hgyiqroihk.mp4', '/content/drive/My Drive/dfdc_train_part_1/hgslssdkky.mp4', '/content/drive/My Drive/dfdc_train_part_1/hhickstlnn.mp4', '/content/drive/My Drive/dfdc_train_part_1/hirpijibhp.mp4', '/content/drive/My Drive/dfdc_train_part_1/hhoaqazixk.mp4', '/content/drive/My Drive/dfdc_train_part_1/hhhvnhhqsc.mp4', '/content/drive/My Drive/dfdc_train_part_1/hjelxxaavf.mp4', '/content/drive/My Drive/dfdc_train_part_1/hkqcobduba.mp4', '/content/drive/My Drive/dfdc_train_part_1/hjhdhumvod.mp4', '/content/drive/My Drive/dfdc_train_part_1/hiubzkclmx.mp4', '/content/drive/My Drive/dfdc_train_part_1/hjagxgkfhb.mp4', '/content/drive/My Drive/dfdc_train_part_1/hkgldamgcb.mp4', '/content/drive/My Drive/dfdc_train_part_1/hkgkrycmmp.mp4', '/content/drive/My Drive/dfdc_train_part_1/hjezlaklbj.mp4', '/content/drive/My Drive/dfdc_train_part_1/hkxoqlmhsq.mp4', '/content/drive/My Drive/dfdc_train_part_1/hllpsujmiy.mp4', '/content/drive/My Drive/dfdc_train_part_1/hmjhzrwjcn.mp4', '/content/drive/My Drive/dfdc_train_part_1/hlmhrkcemk.mp4', '/content/drive/My Drive/dfdc_train_part_1/hmjiojxgwm.mp4', '/content/drive/My Drive/dfdc_train_part_1/hkqopvybph.mp4', '/content/drive/My Drive/dfdc_train_part_1/hmxihwteht.mp4', '/content/drive/My Drive/dfdc_train_part_1/hnfssbkumw.mp4', '/content/drive/My Drive/dfdc_train_part_1/hmvdorfdzk.mp4', '/content/drive/My Drive/dfdc_train_part_1/honxqdilvv.mp4', '/content/drive/My Drive/dfdc_train_part_1/hnfwagcxdf.mp4', '/content/drive/My Drive/dfdc_train_part_1/hntguogkqd.mp4', '/content/drive/My Drive/dfdc_train_part_1/hnxkqrffjx.mp4', '/content/drive/My Drive/dfdc_train_part_1/hoxjfrsbye.mp4', '/content/drive/My Drive/dfdc_train_part_1/hrtmwztfzc.mp4', '/content/drive/My Drive/dfdc_train_part_1/hppkohwkwb.mp4', '/content/drive/My Drive/dfdc_train_part_1/hqhaqjvpds.mp4', '/content/drive/My Drive/dfdc_train_part_1/hprstleikc.mp4', '/content/drive/My Drive/dfdc_train_part_1/hozyutxylm.mp4', '/content/drive/My Drive/dfdc_train_part_1/hqxpzbyijx.mp4', '/content/drive/My Drive/dfdc_train_part_1/htnbqxsgmo.mp4', '/content/drive/My Drive/dfdc_train_part_1/httbasaevn.mp4', '/content/drive/My Drive/dfdc_train_part_1/huuguibhfq.mp4', '/content/drive/My Drive/dfdc_train_part_1/hsbiqbtyrq.mp4', '/content/drive/My Drive/dfdc_train_part_1/hsdofynpsa.mp4', '/content/drive/My Drive/dfdc_train_part_1/htshwkgqxz.mp4', '/content/drive/My Drive/dfdc_train_part_1/hufdhsnfkl.mp4', '/content/drive/My Drive/dfdc_train_part_1/hvwvmzjplp.mp4', '/content/drive/My Drive/dfdc_train_part_1/hvmpghzrwc.mp4', '/content/drive/My Drive/dfdc_train_part_1/hwanpwgjob.mp4', '/content/drive/My Drive/dfdc_train_part_1/hweshqpfwe.mp4', '/content/drive/My Drive/dfdc_train_part_1/hvkmqifunx.mp4', '/content/drive/My Drive/dfdc_train_part_1/huvlwkxoxm.mp4', '/content/drive/My Drive/dfdc_train_part_1/hwdrfenilf.mp4', '/content/drive/My Drive/dfdc_train_part_1/hxsuisonbd.mp4', '/content/drive/My Drive/dfdc_train_part_1/hwgfkwzkgx.mp4', '/content/drive/My Drive/dfdc_train_part_1/hxebjpamjl.mp4', '/content/drive/My Drive/dfdc_train_part_1/hxtdygilhn.mp4', '/content/drive/My Drive/dfdc_train_part_1/hypozprqhm.mp4', '/content/drive/My Drive/dfdc_train_part_1/hzjffznowa.mp4', '/content/drive/My Drive/dfdc_train_part_1/icbylspzoe.mp4', '/content/drive/My Drive/dfdc_train_part_1/hzsywornrw.mp4', '/content/drive/My Drive/dfdc_train_part_1/ibxfxggtqh.mp4', '/content/drive/My Drive/dfdc_train_part_1/hzvhzagzls.mp4', '/content/drive/My Drive/dfdc_train_part_1/iagberxnov.mp4', '/content/drive/My Drive/dfdc_train_part_1/icbsahlivv.mp4', '/content/drive/My Drive/dfdc_train_part_1/iedsgxqfuz.mp4', '/content/drive/My Drive/dfdc_train_part_1/idaqwmmsnm.mp4', '/content/drive/My Drive/dfdc_train_part_1/idqwolxjql.mp4', '/content/drive/My Drive/dfdc_train_part_1/idlzlmvvkm.mp4', '/content/drive/My Drive/dfdc_train_part_1/idwazgztax.mp4', '/content/drive/My Drive/dfdc_train_part_1/idnvievros.mp4', '/content/drive/My Drive/dfdc_train_part_1/icklgrlvqs.mp4', '/content/drive/My Drive/dfdc_train_part_1/ieqqivjdek.mp4', '/content/drive/My Drive/dfdc_train_part_1/ieojvnabjg.mp4', '/content/drive/My Drive/dfdc_train_part_1/ifjqwcoaqa.mp4', '/content/drive/My Drive/dfdc_train_part_1/iepiwuwmja.mp4', '/content/drive/My Drive/dfdc_train_part_1/ifxkdcpuog.mp4', '/content/drive/My Drive/dfdc_train_part_1/ifiuufdctp.mp4', '/content/drive/My Drive/dfdc_train_part_1/ieoixnltne.mp4', '/content/drive/My Drive/dfdc_train_part_1/igqhapdxrm.mp4', '/content/drive/My Drive/dfdc_train_part_1/igpvrfjdzc.mp4', '/content/drive/My Drive/dfdc_train_part_1/iijljhugfo.mp4', '/content/drive/My Drive/dfdc_train_part_1/iiapzhuidn.mp4', '/content/drive/My Drive/dfdc_train_part_1/ihjcmhvqkl.mp4', '/content/drive/My Drive/dfdc_train_part_1/igwlxdtgix.mp4', '/content/drive/My Drive/dfdc_train_part_1/ikthkudeeo.mp4', '/content/drive/My Drive/dfdc_train_part_1/ildymgduvu.mp4', '/content/drive/My Drive/dfdc_train_part_1/iikxnaedah.mp4', '/content/drive/My Drive/dfdc_train_part_1/ijhhztmidr.mp4', '/content/drive/My Drive/dfdc_train_part_1/ijvlstcjsa.mp4', '/content/drive/My Drive/dfdc_train_part_1/ilsntfrbrm.mp4', '/content/drive/My Drive/dfdc_train_part_1/iktwckbykj.mp4', '/content/drive/My Drive/dfdc_train_part_1/ilxaolkkpb.mp4', '/content/drive/My Drive/dfdc_train_part_1/insbnbhqxw.mp4', '/content/drive/My Drive/dfdc_train_part_1/iluitobthi.mp4', '/content/drive/My Drive/dfdc_train_part_1/ilxpiywxyz.mp4', '/content/drive/My Drive/dfdc_train_part_1/imfcdepsrs.mp4', '/content/drive/My Drive/dfdc_train_part_1/indjkegkrh.mp4', '/content/drive/My Drive/dfdc_train_part_1/iqjntoiidb.mp4', '/content/drive/My Drive/dfdc_train_part_1/iqklsrgdjj.mp4', '/content/drive/My Drive/dfdc_train_part_1/ipwtqallyo.mp4', '/content/drive/My Drive/dfdc_train_part_1/ipvwtgdlre.mp4', '/content/drive/My Drive/dfdc_train_part_1/iosnfmelus.mp4', '/content/drive/My Drive/dfdc_train_part_1/iplgviptfg.mp4', '/content/drive/My Drive/dfdc_train_part_1/iqbzjoweap.mp4', '/content/drive/My Drive/dfdc_train_part_1/ituykzzbqq.mp4', '/content/drive/My Drive/dfdc_train_part_1/irnflhiciu.mp4', '/content/drive/My Drive/dfdc_train_part_1/isoxfyhcuu.mp4', '/content/drive/My Drive/dfdc_train_part_1/isnqmehvoo.mp4', '/content/drive/My Drive/dfdc_train_part_1/itpauysdvo.mp4', '/content/drive/My Drive/dfdc_train_part_1/iscwebnkbs.mp4', '/content/drive/My Drive/dfdc_train_part_1/iwtjdkrtgx.mp4', '/content/drive/My Drive/dfdc_train_part_1/ivnygxopre.mp4', '/content/drive/My Drive/dfdc_train_part_1/iwhrsvsqcs.mp4', '/content/drive/My Drive/dfdc_train_part_1/iwatktqcfd.mp4', '/content/drive/My Drive/dfdc_train_part_1/iyegjhsbci.mp4', '/content/drive/My Drive/dfdc_train_part_1/iwjhauqknu.mp4', '/content/drive/My Drive/dfdc_train_part_1/iudybadbqa.mp4', '/content/drive/My Drive/dfdc_train_part_1/iyrafvzjnf.mp4', '/content/drive/My Drive/dfdc_train_part_1/izglbuaqkt.mp4', '/content/drive/My Drive/dfdc_train_part_1/jcfhijtioh.mp4', '/content/drive/My Drive/dfdc_train_part_1/izsiyppwbp.mp4', '/content/drive/My Drive/dfdc_train_part_1/iyqoewtjvb.mp4', '/content/drive/My Drive/dfdc_train_part_1/izruqmbare.mp4', '/content/drive/My Drive/dfdc_train_part_1/iyilruqfhe.mp4', '/content/drive/My Drive/dfdc_train_part_1/jdskdykrct.mp4', '/content/drive/My Drive/dfdc_train_part_1/jctahcrbkh.mp4', '/content/drive/My Drive/dfdc_train_part_1/jcqvkaalyg.mp4', '/content/drive/My Drive/dfdc_train_part_1/jcsqblnqum.mp4', '/content/drive/My Drive/dfdc_train_part_1/jcqbscxfsg.mp4', '/content/drive/My Drive/dfdc_train_part_1/jgdrcvviil.mp4', '/content/drive/My Drive/dfdc_train_part_1/jgjqatboag.mp4', '/content/drive/My Drive/dfdc_train_part_1/jgeiwlrjwk.mp4', '/content/drive/My Drive/dfdc_train_part_1/jgbpmnqoxl.mp4', '/content/drive/My Drive/dfdc_train_part_1/jfmaqowfwv.mp4', '/content/drive/My Drive/dfdc_train_part_1/jelpmzcvzz.mp4', '/content/drive/My Drive/dfdc_train_part_1/jglooveumk.mp4', '/content/drive/My Drive/dfdc_train_part_1/jdztasqled.mp4', '/content/drive/My Drive/dfdc_train_part_1/jhxmmetnfa.mp4', '/content/drive/My Drive/dfdc_train_part_1/jiavqbrkyk.mp4', '/content/drive/My Drive/dfdc_train_part_1/jhnaxwgasd.mp4', '/content/drive/My Drive/dfdc_train_part_1/jgwnsuhilq.mp4', '/content/drive/My Drive/dfdc_train_part_1/jgpxmqxazp.mp4', '/content/drive/My Drive/dfdc_train_part_1/jhpkbwstpw.mp4', '/content/drive/My Drive/dfdc_train_part_1/jihtpjpiox.mp4', '/content/drive/My Drive/dfdc_train_part_1/jmtspvpecy.mp4', '/content/drive/My Drive/dfdc_train_part_1/jlxwpqksnr.mp4', '/content/drive/My Drive/dfdc_train_part_1/jmkkzjwnst.mp4', '/content/drive/My Drive/dfdc_train_part_1/jjrnsyiihl.mp4', '/content/drive/My Drive/dfdc_train_part_1/jilrvmzjfe.mp4', '/content/drive/My Drive/dfdc_train_part_1/jkvcevfwio.mp4', '/content/drive/My Drive/dfdc_train_part_1/jqequofros.mp4', '/content/drive/My Drive/dfdc_train_part_1/jocjbgbfqo.mp4', '/content/drive/My Drive/dfdc_train_part_1/joxrxwqzec.mp4', '/content/drive/My Drive/dfdc_train_part_1/jpvkoxrueh.mp4', '/content/drive/My Drive/dfdc_train_part_1/jncnzarlsm.mp4', '/content/drive/My Drive/dfdc_train_part_1/jpaohjsxbm.mp4', '/content/drive/My Drive/dfdc_train_part_1/jnxuezglcb.mp4', '/content/drive/My Drive/dfdc_train_part_1/jrrbiltviz.mp4', '/content/drive/My Drive/dfdc_train_part_1/jrwjdkoouq.mp4', '/content/drive/My Drive/dfdc_train_part_1/jqffbjwxre.mp4', '/content/drive/My Drive/dfdc_train_part_1/jrejskikgi.mp4', '/content/drive/My Drive/dfdc_train_part_1/jtazbdmcqi.mp4', '/content/drive/My Drive/dfdc_train_part_1/jsvqjkmpzu.mp4', '/content/drive/My Drive/dfdc_train_part_1/jsaxugyuqt.mp4', '/content/drive/My Drive/dfdc_train_part_1/jsrmwevsmp.mp4', '/content/drive/My Drive/dfdc_train_part_1/jzmzdispyo.mp4']\n"
          ]
        }
      ]
    },
    {
      "cell_type": "code",
      "metadata": {
        "id": "CEIygy8uDFXc",
        "colab": {
          "base_uri": "https://localhost:8080/"
        },
        "outputId": "3a476036-0bb2-439b-c8e6-20f0919913ad"
      },
      "source": [
        "#to load preprocessod video to memory\n",
        "import json\n",
        "import glob\n",
        "import numpy as np\n",
        "import cv2\n",
        "import copy\n",
        "import random\n",
        "video_files =  glob.glob('/content/drive/My Drive/Dataset/*.mp4')\n",
        "random.shuffle(video_files)\n",
        "random.shuffle(video_files)\n",
        "frame_count = []\n",
        "for video_file in video_files:\n",
        "  cap = cv2.VideoCapture(video_file)\n",
        "  if(int(cap.get(cv2.CAP_PROP_FRAME_COUNT))<100):\n",
        "    video_files.remove(video_file)\n",
        "    continue\n",
        "  frame_count.append(int(cap.get(cv2.CAP_PROP_FRAME_COUNT)))\n",
        "print(\"frames are \" , frame_count)\n",
        "print(\"Total no of video: \" , len(frame_count))\n",
        "print('Average frame per video:',np.mean(frame_count))"
      ],
      "execution_count": null,
      "outputs": [
        {
          "output_type": "stream",
          "name": "stdout",
          "text": [
            "frames are  [148, 148, 148, 148, 148, 148, 148, 148, 148, 148, 148, 148, 148, 148, 148, 148, 148, 148, 148, 148, 148, 148, 148, 148, 148, 148, 148, 148, 148, 148, 148, 148, 148, 148, 148, 148, 148, 148, 148, 148, 148, 148, 148, 148, 148, 148, 148, 148, 148, 148, 148, 148, 148, 148, 148, 148, 148, 148, 148, 148, 148, 148, 148, 148, 148, 148, 148, 148, 148, 148, 148, 148, 148, 148, 148, 148, 148, 148, 148, 148, 148, 148, 148, 148, 148, 148, 148, 148, 148, 148, 148, 148, 148, 148, 148, 148, 148, 148, 148, 148, 148, 148, 148, 148, 148, 148, 148, 148, 148, 148, 148, 148, 148, 148, 148, 148, 148, 148, 148, 148, 148, 148, 148, 148, 148, 148, 148, 148, 148, 148, 148, 148, 148, 148, 148, 148, 148, 148, 148, 148, 148, 148, 148, 148, 148, 148, 148, 148, 148, 148, 148, 148, 148, 148, 148, 148, 148, 148, 148, 148, 148, 148, 148, 148, 148, 148, 148, 148, 148, 148, 148, 148, 148, 148, 148, 148, 148, 148, 148, 148, 148, 148, 148, 148, 148, 148, 148, 148, 148, 148, 148, 148, 148, 148, 148, 148, 148, 148, 148, 148, 148, 148, 148, 148, 148, 148, 148, 148, 148, 148, 148, 148, 148, 148, 148, 148, 148, 148, 148, 148, 148, 148, 148, 148, 148, 148, 148, 148, 148, 148, 148, 148, 148, 148, 148, 148, 148, 148, 148, 148, 148, 148, 148, 148, 148, 148, 148, 148, 148, 148, 148, 148, 148, 148, 148, 148, 148, 148, 148, 148, 148, 148, 148, 148, 148, 148, 148, 148, 148, 148, 148, 148, 148, 148, 148, 148, 148, 148, 148, 148, 148, 148, 148, 148, 148, 148, 148, 148, 148, 148, 148, 148, 148, 148, 148, 148, 148, 148, 148, 148, 148, 148, 148, 148, 148, 148, 148, 148, 148, 148, 148, 148, 148, 148, 148, 148, 148, 148, 148, 148, 148, 148, 148, 148, 148, 148, 148, 148, 148, 148, 148, 148, 148, 148, 148, 148, 148, 148, 148, 148, 148, 148, 148, 148, 148, 148, 148, 148, 148, 148, 148, 148, 148, 148, 148, 148, 148, 148, 148, 148, 148, 148, 148, 148, 148, 148, 148, 148, 148, 148, 148, 148, 148, 148, 148, 148, 148, 148, 148, 148, 148, 148, 148, 148, 148, 148, 148, 148, 148, 148, 148, 148, 148, 148, 148, 148, 148, 148, 148, 148, 148, 148, 148, 148, 148, 148, 148, 148, 148, 148, 148, 148, 148, 148, 148, 148, 148, 148, 148, 148, 148, 148, 148, 148, 148, 148, 148, 148, 148, 148, 148, 148, 148, 148, 148, 148, 148, 148, 148, 148, 148, 148, 148, 148, 148, 148, 148, 148, 148, 148, 148, 148, 148, 148, 148, 148, 148, 148, 148, 148, 148, 148, 148, 148, 148, 148, 148, 148, 148, 148, 148, 148, 148, 148, 148, 148, 148, 148, 148, 148, 148, 148, 148, 148, 148, 148, 148, 148, 148, 148, 148, 148, 148, 148, 148, 148, 148, 148, 148, 148, 148, 148, 148, 148, 148, 148, 148, 148, 148, 148, 148, 148, 148, 148, 148, 148, 148, 148, 148, 148, 148, 148, 148, 148, 148, 148, 148, 148, 148, 148, 148, 148, 148, 148, 148, 148, 148, 148, 148, 148, 148, 148, 148, 148, 148, 148, 148, 148, 148, 148, 148, 148, 148, 148, 148, 148, 148, 148, 148, 148, 148, 148, 148, 148, 148, 148, 148, 148, 148, 148, 148, 148, 148, 148, 148, 148, 148, 148, 148, 148, 148, 148, 148, 148, 148, 148, 148, 148, 148, 148, 148, 148, 148, 148, 148, 148, 148, 148, 148, 148, 148, 148, 148, 148, 148, 148, 148, 148, 148, 148, 148, 148, 148, 148, 148, 148, 148, 148, 148, 148, 148, 148, 148, 148, 148, 148, 148, 148, 148, 148, 148, 148, 148, 148, 148, 148, 148, 148, 148, 148, 148, 148, 148, 148, 148, 148, 148, 148, 148, 148, 148, 148, 148, 148, 148, 148, 148, 148, 148, 148, 148, 148, 148, 148, 148, 148, 148, 148, 148, 148, 148, 148, 148, 148, 148, 148, 148, 148, 148, 148, 148, 148, 148, 148, 148, 148, 148, 148, 148, 148, 148, 148, 148, 148, 148, 148, 148, 148, 148, 148, 148, 148, 148, 148, 148, 148, 148, 148, 148, 148, 148, 148, 148, 148, 148, 148, 148, 148, 148, 148, 148, 148, 148, 148, 148, 148, 148, 148, 148, 148, 148, 148, 148, 148, 148, 148, 148, 148, 148, 148, 148, 148, 148, 148, 148, 148, 148, 148, 148, 148, 148, 148, 148, 148, 148, 148, 148, 148, 148, 148, 148, 148, 148, 148, 148, 148, 148, 148, 148, 148, 148, 148, 148, 148, 148, 148, 148, 148, 148, 148, 148, 148, 148, 148, 148, 148, 148, 148, 148, 148, 148, 148, 148, 148, 148, 148, 148, 148, 148, 148, 148, 148, 148, 148, 148, 148, 148, 148, 148, 148, 148, 148, 148, 148, 148, 148, 148, 148, 148, 148, 148, 148, 148, 148, 148, 148, 148, 148, 148, 148, 148, 148, 148, 148, 148, 148, 148, 148, 148, 148, 148, 148, 148, 148, 148, 148, 148, 148, 148, 148, 148, 148, 148, 148, 148, 148, 148, 148, 148, 148, 148, 148, 148, 148, 148, 148, 148, 148, 148, 148, 148, 148, 148, 148, 148, 148, 148, 148, 148, 148, 148, 148, 148, 148, 148, 148, 148, 148, 148, 148, 148, 148, 148, 148, 148, 148, 148, 148, 148, 148, 148, 148, 148, 148, 148, 148, 148, 148, 148, 148, 148, 148, 148, 148, 148, 148, 148, 148, 148, 148, 148, 148, 148, 148, 148, 148, 148, 148, 148, 148, 148, 148, 148, 148, 148, 148, 148, 148, 148, 148, 148, 148, 148, 148, 148, 148, 148, 148, 148, 148, 148, 148, 148, 148, 148, 148, 148, 148, 148, 148, 148, 148, 148, 148, 148, 148, 148, 148, 148, 148, 148, 148, 148, 148, 148, 148, 148, 148, 148, 148, 148, 148, 148, 148, 148, 148, 148, 148, 148, 148, 148, 148, 148, 148, 148, 148, 148, 148, 148, 148, 148, 148, 148, 148, 148, 148, 148, 148, 148, 148, 148, 148, 148, 148, 148, 148, 148, 148, 148, 148, 148, 148, 148, 148, 148, 148, 148, 148, 148, 148, 148, 148, 148, 148, 148, 148, 148, 148, 148, 148, 148, 148, 148, 148, 148, 148, 148, 148, 148, 148, 148, 148, 148, 148, 148, 148, 148, 148, 148, 148, 148, 148, 148, 148, 148, 148, 148, 148, 148, 148, 148, 148, 148, 148, 148, 148, 148, 148, 148, 148, 148, 148, 148, 148, 148, 148, 148, 148, 148, 148, 148, 148, 148, 148, 148, 148, 148, 148, 148, 148, 148, 148, 148, 148, 148, 148, 148, 148, 148, 148, 148, 148, 148, 148, 148, 148, 148, 148, 148, 148, 148, 148, 148, 148, 148, 148, 148, 148, 148, 148, 148, 148, 148, 148, 148, 148, 148, 148, 148, 148, 148, 148, 148, 148, 148, 148, 148, 148, 148, 148, 148, 148, 148, 148, 148, 148, 148, 148, 148, 148, 148, 148, 148, 148, 148, 148, 148, 148, 148, 148, 148, 148, 148, 148, 148, 148, 148, 148, 148, 148, 148, 148, 148, 148, 148, 148, 148, 148, 148, 148, 148, 148, 148, 148, 148, 148, 148, 148, 148, 148, 148, 148, 148, 148, 148, 148, 148, 148, 148, 148, 148, 148, 148, 148, 148, 148, 148, 148, 148, 148, 148, 148, 148, 148, 148, 148, 148, 148, 148, 148, 148, 148, 148, 148, 148, 148, 148, 148, 148, 148, 148, 148, 148, 148, 148, 148, 148, 148, 148, 148, 148, 148, 148, 148, 148, 148, 148, 148, 148, 148, 148, 148, 148, 148, 148, 148, 148, 148, 148, 148, 148, 148, 148, 148, 148, 148, 148, 148, 148, 148, 148, 148, 148, 148, 148, 148, 148, 148, 148, 148, 148, 148, 148, 148, 148, 148, 148, 148, 148, 148, 148, 148, 148, 148, 148, 148, 148, 148, 148, 148, 148, 148, 148, 148, 148, 148, 148, 148, 148, 148, 148, 148, 148, 148, 148, 148, 148, 148, 148, 148, 148, 148, 148, 148, 148, 148, 148, 148, 148, 148, 148, 148, 148, 148, 148, 148, 148, 148, 148, 148, 148, 148, 148, 148, 148, 148, 148, 148, 148, 148, 148, 148, 148, 148, 148, 148, 148, 148, 148, 148, 148, 148, 148, 148, 148, 148, 148, 148, 148, 148, 148, 148, 148, 148, 148, 148, 148, 148, 148, 148, 148, 148, 148, 148, 148, 148, 148, 148, 148, 148, 148, 148, 148, 148, 148, 148, 148, 148, 148, 148, 148, 148, 148, 148, 148, 148, 148, 148, 148, 148, 148, 148, 148, 148, 148, 148, 148, 148, 148, 148, 148, 148, 148, 148, 148, 148, 148, 148, 148, 148, 148, 148, 148, 148, 148, 148, 148, 148, 148, 148, 148, 148, 148, 148, 148, 148, 148, 148, 148, 148, 148, 148, 148, 148, 148, 148, 148, 148, 148, 148, 148, 148, 148, 148, 148, 148, 148, 148, 148, 148, 148, 148, 148, 148, 148, 148, 148, 148, 148, 148, 148, 148, 148, 148, 148, 148, 148, 148, 148, 148, 148, 148, 148, 148, 148, 148, 148, 148, 148, 148, 148, 148, 148, 148, 148, 148, 148, 148, 148, 148, 148, 148, 148, 148, 148, 148, 148, 148, 148, 148, 148, 148, 148, 148, 148, 148, 148, 148, 148, 148, 148, 148, 148, 148, 148, 148, 148, 148, 148, 148, 148, 148, 148, 148, 148, 148, 148, 148, 148, 148, 148, 148, 148, 148, 148, 148, 148, 148, 148, 148, 148, 148, 148, 148, 148, 148, 148, 148, 148, 148, 148, 148, 148, 148, 148, 148, 148, 148, 148, 148, 148, 148, 148, 148, 148, 148, 148, 148, 148, 148, 148, 148, 148, 148, 148, 148, 148, 148, 148, 148, 148, 148, 148, 148, 148, 148, 148, 148, 148, 148, 148, 148, 148, 148, 148, 148, 148, 148, 148, 148, 148, 148, 148, 148, 148, 148, 148, 148, 148, 148, 148, 148, 148, 148, 148, 148, 148, 148, 148, 148, 148, 148, 148, 148, 148, 148, 148, 148, 148, 148, 148, 148, 148, 148, 148, 148, 148, 148, 148, 148, 148, 148, 148, 148, 148, 148, 148, 148, 148, 148, 148, 148, 148, 148, 148, 148, 148, 148, 148, 148, 148, 148, 148, 148, 148, 148, 148, 148, 148, 148, 148, 148, 148, 148, 148, 148, 148, 148, 148, 148, 148, 148, 148, 148, 148, 148, 148, 148, 148, 148, 148, 148, 148, 148, 148, 148, 148, 148, 148, 148, 148, 148, 148, 148, 148, 148, 148, 148, 148, 148, 148]\n",
            "Total no of video:  1741\n",
            "Average frame per video: 148.0\n"
          ]
        }
      ]
    },
    {
      "cell_type": "code",
      "metadata": {
        "id": "OqGXNkqhDKZU"
      },
      "source": [
        "# load the video name and labels from csv\n",
        "import torch\n",
        "import torchvision\n",
        "from torchvision import transforms\n",
        "from torch.utils.data import DataLoader\n",
        "from torch.utils.data.dataset import Dataset\n",
        "import os\n",
        "import numpy as np\n",
        "import cv2\n",
        "import matplotlib.pyplot as plt\n",
        "import face_recognition\n",
        "class video_dataset(Dataset):\n",
        "    def __init__(self,video_names,labels,sequence_length = 60,transform = None):\n",
        "        self.video_names = video_names\n",
        "        self.labels = labels\n",
        "        self.transform = transform\n",
        "        self.count = sequence_length\n",
        "    def __len__(self):\n",
        "        return len(self.video_names)\n",
        "    def __getitem__(self,idx):\n",
        "        video_path = self.video_names[idx]\n",
        "        frames = []\n",
        "        a = int(100/self.count)\n",
        "        first_frame = np.random.randint(0,a)\n",
        "        temp_video = video_path.split('/')[-1]\n",
        "        #print(temp_video)\n",
        "        label = self.labels.iloc[(labels.loc[labels[\"file\"] == temp_video].index.values[0]),1]\n",
        "        if(label == 'FAKE'):\n",
        "          label = 0\n",
        "        if(label == 'REAL'):\n",
        "          label = 1\n",
        "        for i,frame in enumerate(self.frame_extract(video_path)):\n",
        "          frames.append(self.transform(frame))\n",
        "          if(len(frames) == self.count):\n",
        "            break\n",
        "        frames = torch.stack(frames)\n",
        "        frames = frames[:self.count]\n",
        "        #print(\"length:\" , len(frames), \"label\",label)\n",
        "        return frames,label\n",
        "    def frame_extract(self,path):\n",
        "      vidObj = cv2.VideoCapture(path)\n",
        "      success = 1\n",
        "      while success:\n",
        "          success, image = vidObj.read()\n",
        "          if success:\n",
        "              yield image\n",
        "#plot the image\n",
        "def im_plot(tensor):\n",
        "    image = tensor.cpu().numpy().transpose(1,2,0)\n",
        "    b,g,r = cv2.split(image)\n",
        "    image = cv2.merge((r,g,b))\n",
        "    image = image*[0.22803, 0.22145, 0.216989] +  [0.43216, 0.394666, 0.37645]\n",
        "    image = image*255.0\n",
        "    plt.imshow(image.astype(int))\n",
        "    plt.show()"
      ],
      "execution_count": null,
      "outputs": []
    },
    {
      "cell_type": "code",
      "metadata": {
        "id": "1leMozhXa5LF"
      },
      "source": [
        "#count the number of fake and real videos\n",
        "def number_of_real_and_fake_videos(data_list):\n",
        "  header_list = [\"file\",\"label\"]\n",
        "  lab = pd.read_csv('/content/drive/My Drive/Gobal_metadata.csv',names=header_list)\n",
        "  fake = 0\n",
        "  real = 0\n",
        "  for i in data_list:\n",
        "    temp_video = i.split('/')[-1]\n",
        "    label = lab.iloc[(labels.loc[labels[\"file\"] == temp_video].index.values[0]),1]\n",
        "    if(label == 'FAKE'):\n",
        "      fake+=1\n",
        "    if(label == 'REAL'):\n",
        "      real+=1\n",
        "  return real,fake"
      ],
      "execution_count": null,
      "outputs": []
    },
    {
      "cell_type": "code",
      "metadata": {
        "id": "sWMZn0YHDO2b",
        "colab": {
          "base_uri": "https://localhost:8080/",
          "height": 575
        },
        "outputId": "0a132cb8-9387-400b-a7ba-0ad4f84a850a"
      },
      "source": [
        "# load the labels and video in data loader\n",
        "import random\n",
        "import pandas as pd\n",
        "from sklearn.model_selection import train_test_split\n",
        "\n",
        "header_list = [\"file\",\"label\"]\n",
        "labels = pd.read_csv('/content/drive/My Drive/Gobal_metadata.csv',names=header_list)\n",
        "#print(labels)\n",
        "train_videos = video_files[:int(0.8*len(video_files))]\n",
        "valid_videos = video_files[int(0.8*len(video_files)):]\n",
        "print(\"train : \" , len(train_videos))\n",
        "print(\"test : \" , len(valid_videos))\n",
        "# train_videos,valid_videos = train_test_split(data,test_size = 0.2)\n",
        "# print(train_videos)\n",
        "\n",
        "print(\"TRAIN: \", \"Real:\",number_of_real_and_fake_videos(train_videos)[0],\" Fake:\",number_of_real_and_fake_videos(train_videos)[1])\n",
        "print(\"TEST: \", \"Real:\",number_of_real_and_fake_videos(valid_videos)[0],\" Fake:\",number_of_real_and_fake_videos(valid_videos)[1])\n",
        "\n",
        "\n",
        "im_size = 112\n",
        "mean = [0.485, 0.456, 0.406]\n",
        "std = [0.229, 0.224, 0.225]\n",
        "\n",
        "train_transforms = transforms.Compose([\n",
        "                                        transforms.ToPILImage(),\n",
        "                                        transforms.Resize((im_size,im_size)),\n",
        "                                        transforms.ToTensor(),\n",
        "                                        transforms.Normalize(mean,std)])\n",
        "\n",
        "test_transforms = transforms.Compose([\n",
        "                                        transforms.ToPILImage(),\n",
        "                                        transforms.Resize((im_size,im_size)),\n",
        "                                        transforms.ToTensor(),\n",
        "                                        transforms.Normalize(mean,std)])\n",
        "train_data = video_dataset(train_videos,labels,sequence_length = 10,transform = train_transforms)\n",
        "#print(train_data)\n",
        "val_data = video_dataset(valid_videos,labels,sequence_length = 10,transform = train_transforms)\n",
        "train_loader = DataLoader(train_data,batch_size = 4,shuffle = True,num_workers = 4)\n",
        "valid_loader = DataLoader(val_data,batch_size = 4,shuffle = True,num_workers = 4)\n",
        "image,label = train_data[0]\n",
        "im_plot(image[0,:,:,:])"
      ],
      "execution_count": null,
      "outputs": [
        {
          "output_type": "stream",
          "name": "stdout",
          "text": [
            "train :  1393\n",
            "test :  349\n",
            "TRAIN:  Real: 0  Fake: 1393\n"
          ]
        },
        {
          "output_type": "stream",
          "name": "stderr",
          "text": [
            "/usr/local/lib/python3.10/dist-packages/torch/utils/data/dataloader.py:558: UserWarning: This DataLoader will create 4 worker processes in total. Our suggested max number of worker in current system is 2, which is smaller than what this DataLoader is going to create. Please be aware that excessive worker creation might get DataLoader running slow or even freeze, lower the worker number to avoid potential slowness/freeze if necessary.\n",
            "  warnings.warn(_create_warning_msg(\n",
            "WARNING:matplotlib.image:Clipping input data to the valid range for imshow with RGB data ([0..1] for floats or [0..255] for integers).\n"
          ]
        },
        {
          "output_type": "stream",
          "name": "stdout",
          "text": [
            "TEST:  Real: 1  Fake: 348\n"
          ]
        },
        {
          "output_type": "display_data",
          "data": {
            "text/plain": [
              "<Figure size 640x480 with 1 Axes>"
            ],
            "image/png": "[encoded data removed]"
          },
          "metadata": {}
        }
      ]
    },
    {
      "cell_type": "code",
      "metadata": {
        "id": "UtOXSqyBDRnD"
      },
      "source": [
        "#Model with feature visualization\n",
        "from torch import nn\n",
        "from torchvision import models\n",
        "class Model(nn.Module):\n",
        "    def __init__(self, num_classes,latent_dim= 2048, lstm_layers=1 , hidden_dim = 2048, bidirectional = False):\n",
        "        super(Model, self).__init__()\n",
        "        model = models.resnext50_32x4d(pretrained = True) #Residual Network CNN\n",
        "        self.model = nn.Sequential(*list(model.children())[:-2])\n",
        "        self.lstm = nn.LSTM(latent_dim,hidden_dim, lstm_layers,  bidirectional)\n",
        "        self.relu = nn.LeakyReLU()\n",
        "        self.dp = nn.Dropout(0.4)\n",
        "        self.linear1 = nn.Linear(2048,num_classes)\n",
        "        self.avgpool = nn.AdaptiveAvgPool2d(1)\n",
        "    def forward(self, x):\n",
        "        batch_size,seq_length, c, h, w = x.shape\n",
        "        x = x.view(batch_size * seq_length, c, h, w)\n",
        "        fmap = self.model(x)\n",
        "        x = self.avgpool(fmap)\n",
        "        x = x.view(batch_size,seq_length,2048)\n",
        "        x_lstm,_ = self.lstm(x,None)\n",
        "        return fmap,self.dp(self.linear1(torch.mean(x_lstm,dim = 1)))"
      ],
      "execution_count": null,
      "outputs": []
    },
    {
      "cell_type": "code",
      "metadata": {
        "id": "WYNhn10tDV90",
        "colab": {
          "base_uri": "https://localhost:8080/"
        },
        "outputId": "6b33a91e-0122-48f6-bd37-9edb325161a4"
      },
      "source": [
        "model = Model(2).cuda()\n",
        "a,b = model(torch.from_numpy(np.empty((1,20,3,112,112))).type(torch.cuda.FloatTensor))"
      ],
      "execution_count": null,
      "outputs": [
        {
          "output_type": "stream",
          "name": "stderr",
          "text": [
            "/usr/local/lib/python3.10/dist-packages/torchvision/models/_utils.py:208: UserWarning: The parameter 'pretrained' is deprecated since 0.13 and may be removed in the future, please use 'weights' instead.\n",
            "  warnings.warn(\n",
            "/usr/local/lib/python3.10/dist-packages/torchvision/models/_utils.py:223: UserWarning: Arguments other than a weight enum or `None` for 'weights' are deprecated since 0.13 and may be removed in the future. The current behavior is equivalent to passing `weights=ResNeXt50_32X4D_Weights.IMAGENET1K_V1`. You can also use `weights=ResNeXt50_32X4D_Weights.DEFAULT` to get the most up-to-date weights.\n",
            "  warnings.warn(msg)\n",
            "Downloading: \"https://download.pytorch.org/models/resnext50_32x4d-7cdf4587.pth\" to /root/.cache/torch/hub/checkpoints/resnext50_32x4d-7cdf4587.pth\n",
            "100%|██████████| 95.8M/95.8M [00:02<00:00, 39.0MB/s]\n"
          ]
        }
      ]
    },
    {
      "cell_type": "code",
      "metadata": {
        "id": "FKheLUWBDaNN"
      },
      "source": [
        "import torch\n",
        "from torch.autograd import Variable\n",
        "import time\n",
        "import os\n",
        "import sys\n",
        "import os\n",
        "def train_epoch(epoch, num_epochs, data_loader, model, criterion, optimizer):\n",
        "    model.train()\n",
        "    losses = AverageMeter()\n",
        "    accuracies = AverageMeter()\n",
        "    t = []\n",
        "    for i, (inputs, targets) in enumerate(data_loader):\n",
        "        if torch.cuda.is_available():\n",
        "            targets = targets.type(torch.cuda.LongTensor)\n",
        "            inputs = inputs.cuda()\n",
        "        _,outputs = model(inputs)\n",
        "        loss  = criterion(outputs,targets.type(torch.cuda.LongTensor))\n",
        "        acc = calculate_accuracy(outputs, targets.type(torch.cuda.LongTensor))\n",
        "        losses.update(loss.item(), inputs.size(0))\n",
        "        accuracies.update(acc, inputs.size(0))\n",
        "        optimizer.zero_grad()\n",
        "        loss.backward()\n",
        "        optimizer.step()\n",
        "        sys.stdout.write(\n",
        "                \"\\r[Epoch %d/%d] [Batch %d / %d] [Loss: %f, Acc: %.2f%%]\"\n",
        "                % (\n",
        "                    epoch,\n",
        "                    num_epochs,\n",
        "                    i,\n",
        "                    len(data_loader),\n",
        "                    losses.avg,\n",
        "                    accuracies.avg))\n",
        "    torch.save(model.state_dict(),'/content/checkpoint.pt')\n",
        "    return losses.avg,accuracies.avg\n",
        "def test(epoch,model, data_loader ,criterion):\n",
        "    print('Testing')\n",
        "    model.eval()\n",
        "    losses = AverageMeter()\n",
        "    accuracies = AverageMeter()\n",
        "    pred = []\n",
        "    true = []\n",
        "    count = 0\n",
        "    with torch.no_grad():\n",
        "        for i, (inputs, targets) in enumerate(data_loader):\n",
        "            if torch.cuda.is_available():\n",
        "                targets = targets.cuda().type(torch.cuda.FloatTensor)\n",
        "                inputs = inputs.cuda()\n",
        "            _,outputs = model(inputs)\n",
        "            loss = torch.mean(criterion(outputs, targets.type(torch.cuda.LongTensor)))\n",
        "            acc = calculate_accuracy(outputs,targets.type(torch.cuda.LongTensor))\n",
        "            _,p = torch.max(outputs,1)\n",
        "            true += (targets.type(torch.cuda.LongTensor)).detach().cpu().numpy().reshape(len(targets)).tolist()\n",
        "            pred += p.detach().cpu().numpy().reshape(len(p)).tolist()\n",
        "            losses.update(loss.item(), inputs.size(0))\n",
        "            accuracies.update(acc, inputs.size(0))\n",
        "            sys.stdout.write(\n",
        "                    \"\\r[Batch %d / %d]  [Loss: %f, Acc: %.2f%%]\"\n",
        "                    % (\n",
        "                        i,\n",
        "                        len(data_loader),\n",
        "                        losses.avg,\n",
        "                        accuracies.avg\n",
        "                        )\n",
        "                    )\n",
        "        print('\\nAccuracy {}'.format(accuracies.avg))\n",
        "    return true,pred,losses.avg,accuracies.avg\n",
        "class AverageMeter(object):\n",
        "    \"\"\"Computes and stores the average and current value\"\"\"\n",
        "    def __init__(self):\n",
        "        self.reset()\n",
        "    def reset(self):\n",
        "        self.val = 0\n",
        "        self.avg = 0\n",
        "        self.sum = 0\n",
        "        self.count = 0\n",
        "\n",
        "    def update(self, val, n=1):\n",
        "        self.val = val\n",
        "        self.sum += val * n\n",
        "        self.count += n\n",
        "        self.avg = self.sum / self.count\n",
        "def calculate_accuracy(outputs, targets):\n",
        "    batch_size = targets.size(0)\n",
        "\n",
        "    _, pred = outputs.topk(1, 1, True)\n",
        "    pred = pred.t()\n",
        "    correct = pred.eq(targets.view(1, -1))\n",
        "    n_correct_elems = correct.float().sum().item()\n",
        "    return 100* n_correct_elems / batch_size"
      ],
      "execution_count": null,
      "outputs": []
    },
    {
      "cell_type": "code",
      "metadata": {
        "id": "b8WneBZNfysN"
      },
      "source": [
        "import seaborn as sn\n",
        "#Output confusion matrix\n",
        "def print_confusion_matrix(y_true, y_pred):\n",
        "    cm = confusion_matrix(y_true, y_pred)\n",
        "    print('True positive = ', cm[0][0])\n",
        "    print('False positive = ', cm[0][1])\n",
        "    print('False negative = ', cm[1][0])\n",
        "    print('True negative = ', cm[1][1])\n",
        "    print('\\n')\n",
        "    df_cm = pd.DataFrame(cm, range(2), range(2))\n",
        "    sn.set(font_scale=1.4) # for label size\n",
        "    sn.heatmap(df_cm, annot=True, annot_kws={\"size\": 16}) # font size\n",
        "    plt.ylabel('Actual label', size = 20)\n",
        "    plt.xlabel('Predicted label', size = 20)\n",
        "    plt.xticks(np.arange(2), ['Fake', 'Real'], size = 16)\n",
        "    plt.yticks(np.arange(2), ['Fake', 'Real'], size = 16)\n",
        "    plt.ylim([2, 0])\n",
        "    plt.show()\n",
        "    calculated_acc = (cm[0][0]+cm[1][1])/(cm[0][0]+cm[0][1]+cm[1][0]+ cm[1][1])\n",
        "    print(\"Calculated Accuracy\",calculated_acc*100)"
      ],
      "execution_count": null,
      "outputs": []
    },
    {
      "cell_type": "code",
      "metadata": {
        "id": "fExJLjt2AtV9"
      },
      "source": [
        "def plot_loss(train_loss_avg,test_loss_avg,num_epochs):\n",
        "  loss_train = train_loss_avg\n",
        "  loss_val = test_loss_avg\n",
        "  print(num_epochs)\n",
        "  epochs = range(1,num_epochs+1)\n",
        "  plt.plot(epochs, loss_train, 'g', label='Training loss')\n",
        "  plt.plot(epochs, loss_val, 'b', label='validation loss')\n",
        "  plt.title('Training and Validation loss')\n",
        "  plt.xlabel('Epochs')\n",
        "  plt.ylabel('Loss')\n",
        "  plt.legend()\n",
        "  plt.show()\n",
        "def plot_accuracy(train_accuracy,test_accuracy,num_epochs):\n",
        "  loss_train = train_accuracy\n",
        "  loss_val = test_accuracy\n",
        "  epochs = range(1,num_epochs+1)\n",
        "  plt.plot(epochs, loss_train, 'g', label='Training accuracy')\n",
        "  plt.plot(epochs, loss_val, 'b', label='validation accuracy')\n",
        "  plt.title('Training and Validation accuracy')\n",
        "  plt.xlabel('Epochs')\n",
        "  plt.ylabel('Accuracy')\n",
        "  plt.legend()\n",
        "  plt.show()"
      ],
      "execution_count": null,
      "outputs": []
    },
    {
      "cell_type": "code",
      "metadata": {
        "id": "rUe1XrYnDdit",
        "colab": {
          "base_uri": "https://localhost:8080/",
          "height": 463
        },
        "outputId": "d2c81934-cd40-4b3b-b38a-1c2bd724ed5c"
      },
      "source": [
        "from sklearn.metrics import confusion_matrix\n",
        "#learning rate\n",
        "lr = 1e-5#0.001\n",
        "#number of epochs\n",
        "num_epochs = 20\n",
        "\n",
        "optimizer = torch.optim.Adam(model.parameters(), lr= lr,weight_decay = 1e-5)\n",
        "\n",
        "#class_weights = torch.from_numpy(np.asarray([1,15])).type(torch.FloatTensor).cuda()\n",
        "#criterion = nn.CrossEntropyLoss(weight = class_weights).cuda()\n",
        "criterion = nn.CrossEntropyLoss().cuda()\n",
        "train_loss_avg =[]\n",
        "train_accuracy = []\n",
        "test_loss_avg = []\n",
        "test_accuracy = []\n",
        "for epoch in range(1,num_epochs+1):\n",
        "    l, acc = train_epoch(epoch,num_epochs,train_loader,model,criterion,optimizer)\n",
        "    train_loss_avg.append(l)\n",
        "    train_accuracy.append(acc)\n",
        "    true,pred,tl,t_acc = test(epoch,model,valid_loader,criterion)\n",
        "    test_loss_avg.append(tl)\n",
        "    test_accuracy.append(t_acc)\n",
        "plot_loss(train_loss_avg,test_loss_avg,len(train_loss_avg))\n",
        "plot_accuracy(train_accuracy,test_accuracy,len(train_accuracy))\n",
        "print(confusion_matrix(true,pred))\n",
        "print_confusion_matrix(true,pred)"
      ],
      "execution_count": null,
      "outputs": [
        {
          "output_type": "stream",
          "name": "stderr",
          "text": [
            "/usr/local/lib/python3.10/dist-packages/torch/utils/data/dataloader.py:558: UserWarning: This DataLoader will create 4 worker processes in total. Our suggested max number of worker in current system is 2, which is smaller than what this DataLoader is going to create. Please be aware that excessive worker creation might get DataLoader running slow or even freeze, lower the worker number to avoid potential slowness/freeze if necessary.\n",
            "  warnings.warn(_create_warning_msg(\n"
          ]
        },
        {
          "output_type": "stream",
          "name": "stdout",
          "text": [
            "[Epoch 1/20] [Batch 348 / 349] [Loss: 0.156624, Acc: 99.64%]Testing\n",
            "[Batch 87 / 88]  [Loss: nan, Acc: 99.71%]\n",
            "Accuracy 99.7134670487106\n",
            "[Epoch 2/20] [Batch 320 / 349] [Loss: 0.112498, Acc: 100.00%]"
          ]
        },
        {
          "output_type": "error",
          "ename": "KeyboardInterrupt",
          "evalue": "",
          "traceback": [
            "\u001b[0;31m---------------------------------------------------------------------------\u001b[0m",
            "\u001b[0;31mKeyboardInterrupt\u001b[0m                         Traceback (most recent call last)",
            "\u001b[0;32m<ipython-input-12-e1f66152eb91>\u001b[0m in \u001b[0;36m<cell line: 16>\u001b[0;34m()\u001b[0m\n\u001b[1;32m     15\u001b[0m \u001b[0mtest_accuracy\u001b[0m \u001b[0;34m=\u001b[0m \u001b[0;34m[\u001b[0m\u001b[0;34m]\u001b[0m\u001b[0;34m\u001b[0m\u001b[0;34m\u001b[0m\u001b[0m\n\u001b[1;32m     16\u001b[0m \u001b[0;32mfor\u001b[0m \u001b[0mepoch\u001b[0m \u001b[0;32min\u001b[0m \u001b[0mrange\u001b[0m\u001b[0;34m(\u001b[0m\u001b[0;36m1\u001b[0m\u001b[0;34m,\u001b[0m\u001b[0mnum_epochs\u001b[0m\u001b[0;34m+\u001b[0m\u001b[0;36m1\u001b[0m\u001b[0;34m)\u001b[0m\u001b[0;34m:\u001b[0m\u001b[0;34m\u001b[0m\u001b[0;34m\u001b[0m\u001b[0m\n\u001b[0;32m---> 17\u001b[0;31m     \u001b[0ml\u001b[0m\u001b[0;34m,\u001b[0m \u001b[0macc\u001b[0m \u001b[0;34m=\u001b[0m \u001b[0mtrain_epoch\u001b[0m\u001b[0;34m(\u001b[0m\u001b[0mepoch\u001b[0m\u001b[0;34m,\u001b[0m\u001b[0mnum_epochs\u001b[0m\u001b[0;34m,\u001b[0m\u001b[0mtrain_loader\u001b[0m\u001b[0;34m,\u001b[0m\u001b[0mmodel\u001b[0m\u001b[0;34m,\u001b[0m\u001b[0mcriterion\u001b[0m\u001b[0;34m,\u001b[0m\u001b[0moptimizer\u001b[0m\u001b[0;34m)\u001b[0m\u001b[0;34m\u001b[0m\u001b[0;34m\u001b[0m\u001b[0m\n\u001b[0m\u001b[1;32m     18\u001b[0m     \u001b[0mtrain_loss_avg\u001b[0m\u001b[0;34m.\u001b[0m\u001b[0mappend\u001b[0m\u001b[0;34m(\u001b[0m\u001b[0ml\u001b[0m\u001b[0;34m)\u001b[0m\u001b[0;34m\u001b[0m\u001b[0;34m\u001b[0m\u001b[0m\n\u001b[1;32m     19\u001b[0m     \u001b[0mtrain_accuracy\u001b[0m\u001b[0;34m.\u001b[0m\u001b[0mappend\u001b[0m\u001b[0;34m(\u001b[0m\u001b[0macc\u001b[0m\u001b[0;34m)\u001b[0m\u001b[0;34m\u001b[0m\u001b[0;34m\u001b[0m\u001b[0m\n",
            "\u001b[0;32m<ipython-input-9-8dc9c46ededc>\u001b[0m in \u001b[0;36mtrain_epoch\u001b[0;34m(epoch, num_epochs, data_loader, model, criterion, optimizer)\u001b[0m\n\u001b[1;32m     16\u001b[0m         \u001b[0m_\u001b[0m\u001b[0;34m,\u001b[0m\u001b[0moutputs\u001b[0m \u001b[0;34m=\u001b[0m \u001b[0mmodel\u001b[0m\u001b[0;34m(\u001b[0m\u001b[0minputs\u001b[0m\u001b[0;34m)\u001b[0m\u001b[0;34m\u001b[0m\u001b[0;34m\u001b[0m\u001b[0m\n\u001b[1;32m     17\u001b[0m         \u001b[0mloss\u001b[0m  \u001b[0;34m=\u001b[0m \u001b[0mcriterion\u001b[0m\u001b[0;34m(\u001b[0m\u001b[0moutputs\u001b[0m\u001b[0;34m,\u001b[0m\u001b[0mtargets\u001b[0m\u001b[0;34m.\u001b[0m\u001b[0mtype\u001b[0m\u001b[0;34m(\u001b[0m\u001b[0mtorch\u001b[0m\u001b[0;34m.\u001b[0m\u001b[0mcuda\u001b[0m\u001b[0;34m.\u001b[0m\u001b[0mLongTensor\u001b[0m\u001b[0;34m)\u001b[0m\u001b[0;34m)\u001b[0m\u001b[0;34m\u001b[0m\u001b[0;34m\u001b[0m\u001b[0m\n\u001b[0;32m---> 18\u001b[0;31m         \u001b[0macc\u001b[0m \u001b[0;34m=\u001b[0m \u001b[0mcalculate_accuracy\u001b[0m\u001b[0;34m(\u001b[0m\u001b[0moutputs\u001b[0m\u001b[0;34m,\u001b[0m \u001b[0mtargets\u001b[0m\u001b[0;34m.\u001b[0m\u001b[0mtype\u001b[0m\u001b[0;34m(\u001b[0m\u001b[0mtorch\u001b[0m\u001b[0;34m.\u001b[0m\u001b[0mcuda\u001b[0m\u001b[0;34m.\u001b[0m\u001b[0mLongTensor\u001b[0m\u001b[0;34m)\u001b[0m\u001b[0;34m)\u001b[0m\u001b[0;34m\u001b[0m\u001b[0;34m\u001b[0m\u001b[0m\n\u001b[0m\u001b[1;32m     19\u001b[0m         \u001b[0mlosses\u001b[0m\u001b[0;34m.\u001b[0m\u001b[0mupdate\u001b[0m\u001b[0;34m(\u001b[0m\u001b[0mloss\u001b[0m\u001b[0;34m.\u001b[0m\u001b[0mitem\u001b[0m\u001b[0;34m(\u001b[0m\u001b[0;34m)\u001b[0m\u001b[0;34m,\u001b[0m \u001b[0minputs\u001b[0m\u001b[0;34m.\u001b[0m\u001b[0msize\u001b[0m\u001b[0;34m(\u001b[0m\u001b[0;36m0\u001b[0m\u001b[0;34m)\u001b[0m\u001b[0;34m)\u001b[0m\u001b[0;34m\u001b[0m\u001b[0;34m\u001b[0m\u001b[0m\n\u001b[1;32m     20\u001b[0m         \u001b[0maccuracies\u001b[0m\u001b[0;34m.\u001b[0m\u001b[0mupdate\u001b[0m\u001b[0;34m(\u001b[0m\u001b[0macc\u001b[0m\u001b[0;34m,\u001b[0m \u001b[0minputs\u001b[0m\u001b[0;34m.\u001b[0m\u001b[0msize\u001b[0m\u001b[0;34m(\u001b[0m\u001b[0;36m0\u001b[0m\u001b[0;34m)\u001b[0m\u001b[0;34m)\u001b[0m\u001b[0;34m\u001b[0m\u001b[0;34m\u001b[0m\u001b[0m\n",
            "\u001b[0;32m<ipython-input-9-8dc9c46ededc>\u001b[0m in \u001b[0;36mcalculate_accuracy\u001b[0;34m(outputs, targets)\u001b[0m\n\u001b[1;32m     86\u001b[0m     \u001b[0mpred\u001b[0m \u001b[0;34m=\u001b[0m \u001b[0mpred\u001b[0m\u001b[0;34m.\u001b[0m\u001b[0mt\u001b[0m\u001b[0;34m(\u001b[0m\u001b[0;34m)\u001b[0m\u001b[0;34m\u001b[0m\u001b[0;34m\u001b[0m\u001b[0m\n\u001b[1;32m     87\u001b[0m     \u001b[0mcorrect\u001b[0m \u001b[0;34m=\u001b[0m \u001b[0mpred\u001b[0m\u001b[0;34m.\u001b[0m\u001b[0meq\u001b[0m\u001b[0;34m(\u001b[0m\u001b[0mtargets\u001b[0m\u001b[0;34m.\u001b[0m\u001b[0mview\u001b[0m\u001b[0;34m(\u001b[0m\u001b[0;36m1\u001b[0m\u001b[0;34m,\u001b[0m \u001b[0;34m-\u001b[0m\u001b[0;36m1\u001b[0m\u001b[0;34m)\u001b[0m\u001b[0;34m)\u001b[0m\u001b[0;34m\u001b[0m\u001b[0;34m\u001b[0m\u001b[0m\n\u001b[0;32m---> 88\u001b[0;31m     \u001b[0mn_correct_elems\u001b[0m \u001b[0;34m=\u001b[0m \u001b[0mcorrect\u001b[0m\u001b[0;34m.\u001b[0m\u001b[0mfloat\u001b[0m\u001b[0;34m(\u001b[0m\u001b[0;34m)\u001b[0m\u001b[0;34m.\u001b[0m\u001b[0msum\u001b[0m\u001b[0;34m(\u001b[0m\u001b[0;34m)\u001b[0m\u001b[0;34m.\u001b[0m\u001b[0mitem\u001b[0m\u001b[0;34m(\u001b[0m\u001b[0;34m)\u001b[0m\u001b[0;34m\u001b[0m\u001b[0;34m\u001b[0m\u001b[0m\n\u001b[0m\u001b[1;32m     89\u001b[0m     \u001b[0;32mreturn\u001b[0m \u001b[0;36m100\u001b[0m\u001b[0;34m*\u001b[0m \u001b[0mn_correct_elems\u001b[0m \u001b[0;34m/\u001b[0m \u001b[0mbatch_size\u001b[0m\u001b[0;34m\u001b[0m\u001b[0;34m\u001b[0m\u001b[0m\n",
            "\u001b[0;31mKeyboardInterrupt\u001b[0m: "
          ]
        }
      ]
    }
  ]
}